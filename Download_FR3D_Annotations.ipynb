{
 "cells": [
  {
   "cell_type": "code",
   "execution_count": 1,
   "id": "006b4b9e-460b-4076-b561-dc6077400f98",
   "metadata": {},
   "outputs": [],
   "source": [
    "import json\n",
    "import requests\n",
    "\n",
    "from tqdm.notebook import tqdm"
   ]
  },
  {
   "cell_type": "code",
   "execution_count": 2,
   "id": "82234f56-649b-4796-80f0-99d2039d75b9",
   "metadata": {},
   "outputs": [],
   "source": [
    "with open('filtered_pdb_with_reads.json','r') as f:\n",
    "    filtered_seqs = json.load(f)"
   ]
  },
  {
   "cell_type": "code",
   "execution_count": 21,
   "id": "16668567-6bd1-4333-a154-732c0519a0bc",
   "metadata": {},
   "outputs": [
    {
     "data": {
      "application/vnd.jupyter.widget-view+json": {
       "model_id": "f2ec9d4f2a844aeeb24604bbf409e21a",
       "version_major": 2,
       "version_minor": 0
      },
      "text/plain": [
       "  0%|          | 0/1287 [00:00<?, ?it/s]"
      ]
     },
     "metadata": {},
     "output_type": "display_data"
    }
   ],
   "source": [
    "# Iterate through library sequences and download the base pairing information from the FR3D database\n",
    "\n",
    "missing_seqs = []\n",
    "\n",
    "for k,v in tqdm(filtered_seqs.items(),total=len(filtered_seqs)):\n",
    "    r = requests.get(f\"https://rna.bgsu.edu/rna3dhub/pdb/{v['pdb']}/interactions/fr3d/all/csv\")\n",
    "    if r.status_code == requests.codes.ok:\n",
    "        with open(f\"data/FR3D/{v['pdb']}.csv\", 'w') as f:\n",
    "            f.write(r.text)\n",
    "    else:\n",
    "        missing_seqs += [(v['pdb'],v)]"
   ]
  },
  {
   "cell_type": "code",
   "execution_count": 23,
   "id": "ccc1efcb-4a6e-46e1-aaf3-a810f4e06dae",
   "metadata": {},
   "outputs": [],
   "source": []
  },
  {
   "cell_type": "code",
   "execution_count": 30,
   "id": "06d0a44e-3833-4beb-ac88-dbeb3b55c6c8",
   "metadata": {},
   "outputs": [],
   "source": [
    "with open('pdb_dict_filtered_seqs.json','w') as f:\n",
    "    json.dump(pdb_dict,f)"
   ]
  },
  {
   "cell_type": "code",
   "execution_count": null,
   "id": "4efa1aa6-1cab-411f-b3e5-3a140a28c784",
   "metadata": {},
   "outputs": [],
   "source": []
  },
  {
   "cell_type": "code",
   "execution_count": null,
   "id": "ddc9656b-0ca9-47dd-9d90-7f646c11669e",
   "metadata": {},
   "outputs": [],
   "source": [
    "# identify library sequences that represent different chains of the same pdb file\n",
    "\n",
    "pdb_dict = {}\n",
    "\n",
    "for k,v in filtered_seqs.items():\n",
    "    pdb_dict[v['pdb']] = pdb_dict.get(v['pdb'],[]) + [k]"
   ]
  }
 ],
 "metadata": {
  "kernelspec": {
   "display_name": "Python 3 (ipykernel)",
   "language": "python",
   "name": "python3"
  },
  "language_info": {
   "codemirror_mode": {
    "name": "ipython",
    "version": 3
   },
   "file_extension": ".py",
   "mimetype": "text/x-python",
   "name": "python",
   "nbconvert_exporter": "python",
   "pygments_lexer": "ipython3",
   "version": "3.12.6"
  }
 },
 "nbformat": 4,
 "nbformat_minor": 5
}
