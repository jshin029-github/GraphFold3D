{
 "cells": [
  {
   "cell_type": "code",
   "execution_count": 1,
   "id": "006b4b9e-460b-4076-b561-dc6077400f98",
   "metadata": {},
   "outputs": [],
   "source": [
    "import json\n",
    "import requests\n",
    "\n",
    "import numpy as np\n",
    "import re\n",
    "\n",
    "from tqdm.notebook import tqdm\n",
    "\n",
    "from Bio import Align, SeqIO"
   ]
  },
  {
   "cell_type": "code",
   "execution_count": 2,
   "id": "82234f56-649b-4796-80f0-99d2039d75b9",
   "metadata": {},
   "outputs": [],
   "source": [
    "with open('filtered_pdb_with_reads.json','r') as f:\n",
    "    filtered_seqs = json.load(f)"
   ]
  },
  {
   "cell_type": "code",
   "execution_count": null,
   "id": "3cf50f53-2d9b-4693-91d6-f2754a794c19",
   "metadata": {},
   "outputs": [],
   "source": []
  },
  {
   "cell_type": "code",
   "execution_count": 3,
   "id": "16668567-6bd1-4333-a154-732c0519a0bc",
   "metadata": {},
   "outputs": [
    {
     "data": {
      "application/vnd.jupyter.widget-view+json": {
       "model_id": "a4ea12bc3b204e0dbbd493788469f15c",
       "version_major": 2,
       "version_minor": 0
      },
      "text/plain": [
       "  0%|          | 0/1287 [00:00<?, ?it/s]"
      ]
     },
     "metadata": {},
     "output_type": "display_data"
    }
   ],
   "source": [
    "# Download the FASTA files for all of the sequences\n",
    "\n",
    "missing_seqs = []\n",
    "pdb_set = set([])\n",
    "\n",
    "for k,v in tqdm(filtered_seqs.items(),total=len(filtered_seqs)):\n",
    "    if v['pdb'] in pdb_set:\n",
    "        continue\n",
    "    r = requests.get(f\"https://www.rcsb.org/fasta/entry/{v['pdb']}\")\n",
    "    if r.status_code == requests.codes.ok:\n",
    "        with open(f\"data/fasta/{v['pdb']}.fasta\", 'w') as f:\n",
    "            f.write(r.text)\n",
    "    else:\n",
    "        missing_seqs += [(v['pdb'],v)]"
   ]
  },
  {
   "cell_type": "code",
   "execution_count": 6,
   "id": "81c9512f-eea2-40c4-a776-7b099417a89d",
   "metadata": {},
   "outputs": [
    {
     "data": {
      "text/plain": [
       "['4UQ0', '88F8']"
      ]
     },
     "execution_count": 6,
     "metadata": {},
     "output_type": "execute_result"
    }
   ],
   "source": [
    "[s[0] for s in missing_seqs]"
   ]
  },
  {
   "cell_type": "code",
   "execution_count": 6,
   "id": "4efa1aa6-1cab-411f-b3e5-3a140a28c784",
   "metadata": {},
   "outputs": [],
   "source": [
    "# Remove extraneous sequence from the library \n",
    "# this particular sequence had a \"pdb-like\" id 88F8 and was incorrectly kept in during filtering\n",
    "\n",
    "del filtered_seqs['design_name:88F8: Deinococcus radiodurans R1 chromosome 1']"
   ]
  },
  {
   "cell_type": "code",
   "execution_count": null,
   "id": "bb2b3bf6-94ae-48d6-87ff-0e3e510b6dd5",
   "metadata": {},
   "outputs": [],
   "source": []
  },
  {
   "cell_type": "code",
   "execution_count": null,
   "id": "d5f375b5-729b-4fb2-8185-2931e397ef76",
   "metadata": {},
   "outputs": [],
   "source": []
  },
  {
   "cell_type": "code",
   "execution_count": 4,
   "id": "5aa9f83a-3167-4538-a829-6b803037889b",
   "metadata": {},
   "outputs": [],
   "source": [
    "def getLongestMatch(str1,str2):\n",
    "    \"\"\"\n",
    "    Function to get the indexes corresponding to the largest continguous mapping between str1 and str2\n",
    "    \"\"\"\n",
    "\n",
    "    # Set up aligner class with gap penalties to prefer contiguous sequences\n",
    "    aligner = Align.PairwiseAligner()\n",
    "    aligner.mode = 'local'\n",
    "    \n",
    "    aligner.match_score = 2\n",
    "    aligner.gap_score = -1\n",
    "    aligner.mismatch_score = -1\n",
    "\n",
    "    # align the two sequences\n",
    "    alignment = aligner.align(str1,str2)\n",
    "\n",
    "    # identify if there is an alignment (return no alignment if not)\n",
    "    try:\n",
    "        alignment = alignment[0]\n",
    "    except IndexError:\n",
    "        return (None,0)\n",
    "\n",
    "    # find the longest contiguous alignment between the two strings\n",
    "    max_len_contig = sorted(alignment.aligned[0],key = lambda s: abs(s[1]-s[0]))[-1]\n",
    "\n",
    "    # return the indices corresponding to the longest contiguous alignment and its length\n",
    "    return (max_len_contig,abs(max_len_contig[1] - max_len_contig[0]))"
   ]
  },
  {
   "cell_type": "code",
   "execution_count": 68,
   "id": "fda064ff-1d4b-435e-99e5-ec865d807fc4",
   "metadata": {},
   "outputs": [
    {
     "data": {
      "application/vnd.jupyter.widget-view+json": {
       "model_id": "59641ccdcd5a4e438644f4dc5ba6bcc2",
       "version_major": 2,
       "version_minor": 0
      },
      "text/plain": [
       "  0%|          | 0/1286 [00:00<?, ?it/s]"
      ]
     },
     "metadata": {},
     "output_type": "display_data"
    }
   ],
   "source": [
    "# iterate through the library sequences and find the correct RNA chain in the pdb files\n",
    "\n",
    "for k,v in tqdm(filtered_seqs.items(),total=len(filtered_seqs)):\n",
    "    top_alignment = (None,None,0)\n",
    "\n",
    "    with open(f\"data/fasta/{v['pdb']}.fasta\",'r') as f:\n",
    "        # loop through each chain in the pdb fasta file\n",
    "        for record in SeqIO.parse(f,'fasta'):\n",
    "            # find the longest aligned subsequence between the chain and the library sequence\n",
    "            max_len_contig = getLongestMatch(v['sequence'],str(record.seq))\n",
    "\n",
    "            # if this chain has the longest match to the library sequence, save it as the correct \"match\"\n",
    "            if max_len_contig[1] > top_alignment[2]:\n",
    "                top_alignment = (record.description,*max_len_contig)\n",
    "\n",
    "    # save the longest match as the \"correct chain\" in the pdb file\n",
    "    filtered_seqs[k].update({'chain':str(top_alignment[0]),\n",
    "                             'fasta_idxs':[int(s) for s in top_alignment[1]]})"
   ]
  },
  {
   "cell_type": "code",
   "execution_count": 69,
   "id": "e9f64c2f-4b90-4709-a527-400cb3f2c611",
   "metadata": {},
   "outputs": [],
   "source": [
    "with open('filtered_pdb_with_reads.json','w') as f:\n",
    "    json.dump(filtered_seqs,f)"
   ]
  },
  {
   "cell_type": "code",
   "execution_count": null,
   "id": "1e1f33ec-e0d2-4260-927f-3d8b99335740",
   "metadata": {},
   "outputs": [],
   "source": []
  },
  {
   "cell_type": "code",
   "execution_count": 181,
   "id": "e1a436eb-3b95-48d9-882a-a4a3a5ef0c67",
   "metadata": {},
   "outputs": [],
   "source": [
    "nuc_map = {'A':np.array([1,0,0,0]),'U':np.array([0,1,0,0]),'G':np.array([0,0,1,0]),'C':np.array([0,0,0,1])}\n",
    "\n",
    "def getLongestSubsequence(gapped,ungapped):\n",
    "    \"\"\"\n",
    "    gapped:   a dict mapping nucleotide positions to nucleotides from the FR3D data\n",
    "    ungapped: a string containing the full sequence from the protein FASTA\n",
    "    \"\"\"\n",
    "    gapped_mtx = []\n",
    "    gapped_seq = ''\n",
    "    for i in range(min(gapped.keys()),max(gapped.keys())+1):\n",
    "        gapped_mtx += [nuc_map.get(gapped.get(i,'-'),np.array([0,0,0,0]))]\n",
    "        gapped_seq += gapped.get(i,'-')\n",
    "    gapped_mtx = np.array(gapped_mtx)\n",
    "    \n",
    "    ungapped_mtx = []\n",
    "    ungapped_seq = ''\n",
    "    for n in ungapped:\n",
    "        ungapped_mtx += [nuc_map.get(n,np.array([0,0,0,0]))]\n",
    "        ungapped_seq += n\n",
    "    ungapped_mtx = np.array(ungapped_mtx)\n",
    "\n",
    "\n",
    "    if len(ungapped_mtx) < len(gapped_mtx):        \n",
    "        gapped_seq = gapped_seq[:len(ungapped_mtx)].rstrip('-')\n",
    "        gapped_mtx = gapped_mtx[:len(gapped_seq)]\n",
    "        \n",
    "    gapped_sum = gapped_mtx.sum()\n",
    "    gapped_len = len(gapped_mtx)\n",
    "    \n",
    "    for i in range(len(ungapped_mtx) - len(gapped_mtx)+1):\n",
    "        if (ungapped_mtx[i:i+gapped_len] * gapped_mtx).sum() == gapped_sum:\n",
    "            break\n",
    "    return [i,gapped_len + i]\n",
    "    "
   ]
  },
  {
   "cell_type": "code",
   "execution_count": 182,
   "id": "13eb6950-db8c-4f11-b106-860d3730d280",
   "metadata": {},
   "outputs": [
    {
     "data": {
      "application/vnd.jupyter.widget-view+json": {
       "model_id": "eb5d47ed14004143ad72434c204ca5c7",
       "version_major": 2,
       "version_minor": 0
      },
      "text/plain": [
       "  0%|          | 0/1286 [00:00<?, ?it/s]"
      ]
     },
     "metadata": {},
     "output_type": "display_data"
    }
   ],
   "source": [
    "# store the edge index for the base pairs stored in the FR3D database\n",
    "\n",
    "FR3D_pairs = {}\n",
    "\n",
    "for k,v in tqdm(filtered_seqs.items(),total=len(filtered_seqs)):\n",
    "    edge_list = []\n",
    "    try:\n",
    "        chain_id = re.findall(r'\\[auth ([A-Za-z0-9]+)\\]',v['chain'])[0]\n",
    "    except IndexError:\n",
    "        chain_id = re.findall(r'Chain[s]* ([A-Za-z0-9]+)',v['chain'])[0]\n",
    "    offset = int(v['fasta_idxs'][0])\n",
    "\n",
    "    with open(f\"data/FR3D/{v['pdb']}.csv\",'r') as f:\n",
    "        fred_sequence = {}\n",
    "        for line in f.readlines():\n",
    "            line = line.rstrip().replace('\"','')\n",
    "            nodes = re.findall(rf\"{v['pdb']}\\|1\\|{chain_id}\\|([AUGC])\\|(\\d+)\",line)\n",
    "            if len(nodes) == 2:\n",
    "                if nodes[0][1] == nodes[1][1]:\n",
    "                    continue\n",
    "\n",
    "                words = line.split(',')\n",
    "                if len(words[1]+words[3]+words[4]) > 0:\n",
    "                    edge_list += [(int(nodes[0][1])-1,int(nodes[1][1])-1)]\n",
    "                    for node in nodes:\n",
    "                        fred_sequence[int(node[1])] = node[0]\n",
    "    if len(fred_sequence) <= 1:\n",
    "        continue\n",
    "    FR3D_idx = getLongestSubsequence(fred_sequence,v['sequence'][slice(*v['fasta_idxs'])])\n",
    "    FR3D_pairs[k] = {\n",
    "        'sequence':v['sequence'],\n",
    "        'FR3D_edge_list':edge_list,\n",
    "        'FR3D_idxs':FR3D_idx,\n",
    "        'chain':str(v['chain']),\n",
    "        'fasta_idxs':[int(i) for i in v['fasta_idxs']]}"
   ]
  },
  {
   "cell_type": "code",
   "execution_count": null,
   "id": "796c79b2-35be-49ef-9d1d-426e694eccb5",
   "metadata": {},
   "outputs": [],
   "source": []
  },
  {
   "cell_type": "code",
   "execution_count": 183,
   "id": "d9ed9045-362b-4f56-912f-f9a888e4e18b",
   "metadata": {},
   "outputs": [],
   "source": [
    "with open('FR3D_annotations.json','w') as f:\n",
    "    json.dump(FR3D_pairs,f)"
   ]
  },
  {
   "cell_type": "code",
   "execution_count": null,
   "id": "448cab6b-ce25-49eb-87d4-736bfe489eb0",
   "metadata": {},
   "outputs": [],
   "source": []
  },
  {
   "cell_type": "code",
   "execution_count": null,
   "id": "80ce440c-34ab-4daa-b693-c8e3d5c85116",
   "metadata": {},
   "outputs": [],
   "source": []
  },
  {
   "cell_type": "code",
   "execution_count": null,
   "id": "29c87d79-3d48-444d-8e38-34c990c8e26f",
   "metadata": {},
   "outputs": [],
   "source": []
  },
  {
   "cell_type": "code",
   "execution_count": null,
   "id": "4e284f5c-996b-4072-9451-85b4a60efee4",
   "metadata": {},
   "outputs": [],
   "source": []
  },
  {
   "cell_type": "code",
   "execution_count": null,
   "id": "8126bc5a-b87d-4738-b61a-baaf9f6a161c",
   "metadata": {},
   "outputs": [],
   "source": []
  },
  {
   "cell_type": "code",
   "execution_count": null,
   "id": "58322448-ab65-4f03-b2d8-e05fafa8626c",
   "metadata": {},
   "outputs": [],
   "source": []
  },
  {
   "cell_type": "code",
   "execution_count": null,
   "id": "23510f9b-34ca-4736-8d61-914288c17cb3",
   "metadata": {},
   "outputs": [],
   "source": []
  },
  {
   "cell_type": "code",
   "execution_count": 184,
   "id": "e0773184-a39c-4c83-bd25-88da3b482b6b",
   "metadata": {},
   "outputs": [],
   "source": [
    "v = filtered_seqs['design_name:3T4B: hepatitis C virus IRES']\n",
    "\n",
    "with open(f\"data/FR3D/{v['pdb']}.csv\",'r') as f:\n",
    "    fred_sequence = {}\n",
    "    edge_list = []\n",
    "    for line in f.readlines():\n",
    "        line = line.rstrip().replace('\"','')\n",
    "        nodes = re.findall(rf\"{v['pdb']}\\|1\\|{chain_id}\\|([AUGC])\\|(\\d+)\",line)\n",
    "        if len(nodes) == 2:\n",
    "            if nodes[0][1] == nodes[1][1]:\n",
    "                continue\n",
    "\n",
    "            words = line.split(',')\n",
    "            if len(words[1]+words[3]+words[4]) > 0:\n",
    "                edge_list += [(int(nodes[0][1])-1,int(nodes[1][1])-1)]\n",
    "                for node in nodes:\n",
    "                    fred_sequence[int(node[1])] = node[0]"
   ]
  },
  {
   "cell_type": "code",
   "execution_count": null,
   "id": "223df3de-ad96-4203-bab5-a50d2c49b326",
   "metadata": {},
   "outputs": [],
   "source": []
  },
  {
   "cell_type": "code",
   "execution_count": null,
   "id": "56f94c62-7f16-4e2d-abf0-40f4101ec06d",
   "metadata": {},
   "outputs": [],
   "source": []
  },
  {
   "cell_type": "code",
   "execution_count": 187,
   "id": "944d6088-2d97-4952-a569-ea5aee4fbf4b",
   "metadata": {},
   "outputs": [
    {
     "name": "stdout",
     "output_type": "stream",
     "text": [
      "GCUAAGGGGG-AACUCUAUGC-------------------------------------------------------------------------------------------------------CCUCCCGGGAG-GCC-------------------------------------------------------------------------------------------------------------------------------------------------GGUACUGCCUGAUAGGGUGCU-GCGAGUGCCCCGGGAGG-CUCGUA\n",
      "CCUCCCGGGAGAGCCGCUAAGGGGGAAACUCUAUGCGGUACUGCCUGAUAGGGUGCUUGCGAGUGCCCCGGGAGGUCUCGUAGA\n",
      "doing stuff\n",
      "(330, 4)\n",
      "GCUAAGGGGG-AACUCUAUGC\n",
      "(21, 4)\n",
      "CCUCCCGGGAGAGCCGCUAAGGGGGAAACUCUAUGCGGUACUGCCUGAUAGGGUGCUUGCGAGUGCCCCGGGAGGUCUCGUAGA\n",
      "GCUAAGGGGG-AACUCUAUGC\n",
      "84 21 20\n",
      "CCUCCCGGGAGAGCCGCUAAG\n",
      "GCUAAGGGGG-AACUCUAUGC\n",
      "0 7 20\n",
      "CUCCCGGGAGAGCCGCUAAGG\n",
      "GCUAAGGGGG-AACUCUAUGC\n",
      "1 9 20\n",
      "UCCCGGGAGAGCCGCUAAGGG\n",
      "GCUAAGGGGG-AACUCUAUGC\n",
      "2 6 20\n",
      "CCCGGGAGAGCCGCUAAGGGG\n",
      "GCUAAGGGGG-AACUCUAUGC\n",
      "3 7 20\n",
      "CCGGGAGAGCCGCUAAGGGGG\n",
      "GCUAAGGGGG-AACUCUAUGC\n",
      "4 4 20\n",
      "CGGGAGAGCCGCUAAGGGGGA\n",
      "GCUAAGGGGG-AACUCUAUGC\n",
      "5 4 20\n",
      "GGGAGAGCCGCUAAGGGGGAA\n",
      "GCUAAGGGGG-AACUCUAUGC\n",
      "6 5 20\n",
      "GGAGAGCCGCUAAGGGGGAAA\n",
      "GCUAAGGGGG-AACUCUAUGC\n",
      "7 6 20\n",
      "GAGAGCCGCUAAGGGGGAAAC\n",
      "GCUAAGGGGG-AACUCUAUGC\n",
      "8 6 20\n",
      "AGAGCCGCUAAGGGGGAAACU\n",
      "GCUAAGGGGG-AACUCUAUGC\n",
      "9 2 20\n",
      "GAGCCGCUAAGGGGGAAACUC\n",
      "GCUAAGGGGG-AACUCUAUGC\n",
      "10 4 20\n",
      "AGCCGCUAAGGGGGAAACUCU\n",
      "GCUAAGGGGG-AACUCUAUGC\n",
      "11 2 20\n",
      "GCCGCUAAGGGGGAAACUCUA\n",
      "GCUAAGGGGG-AACUCUAUGC\n",
      "12 4 20\n",
      "CCGCUAAGGGGGAAACUCUAU\n",
      "GCUAAGGGGG-AACUCUAUGC\n",
      "13 8 20\n",
      "CGCUAAGGGGGAAACUCUAUG\n",
      "GCUAAGGGGG-AACUCUAUGC\n",
      "14 7 20\n",
      "GCUAAGGGGGAAACUCUAUGC\n",
      "GCUAAGGGGG-AACUCUAUGC\n",
      "15 20 20\n"
     ]
    },
    {
     "data": {
      "text/plain": [
       "[15, 36]"
      ]
     },
     "execution_count": 187,
     "metadata": {},
     "output_type": "execute_result"
    }
   ],
   "source": [
    "getLongestSubsequence2(fred_sequence,v['sequence'][slice(*v['fasta_idxs'])])"
   ]
  },
  {
   "cell_type": "code",
   "execution_count": 186,
   "id": "c35f68da-8a01-46a9-abf6-205b50bc804b",
   "metadata": {},
   "outputs": [],
   "source": [
    "nuc_map = {'A':np.array([1,0,0,0]),'U':np.array([0,1,0,0]),'G':np.array([0,0,1,0]),'C':np.array([0,0,0,1])}\n",
    "\n",
    "def getLongestSubsequence2(gapped,ungapped):\n",
    "    \"\"\"\n",
    "    gapped:   a dict mapping nucleotide positions to nucleotides from the FR3D data\n",
    "    ungapped: a string containing the full sequence from the protein FASTA\n",
    "    \"\"\"\n",
    "    gapped_mtx = []\n",
    "    gapped_seq = ''\n",
    "    for i in range(min(gapped.keys()),max(gapped.keys())+1):\n",
    "        gapped_mtx += [nuc_map.get(gapped.get(i,'-'),np.array([0,0,0,0]))]\n",
    "        gapped_seq += gapped.get(i,'-')\n",
    "    gapped_mtx = np.array(gapped_mtx)\n",
    "    \n",
    "    ungapped_mtx = []\n",
    "    ungapped_seq = ''\n",
    "    for n in ungapped:\n",
    "        ungapped_mtx += [nuc_map.get(n,np.array([0,0,0,0]))]\n",
    "        ungapped_seq += n\n",
    "    ungapped_mtx = np.array(ungapped_mtx)\n",
    "    print(gapped_seq)\n",
    "    print(ungapped_seq)\n",
    "\n",
    "    print('doing stuff')\n",
    "\n",
    "    if len(ungapped_mtx) < len(gapped_mtx):\n",
    "        print(gapped_mtx.shape)\n",
    "        gapped_seq = gapped_seq[:len(ungapped_mtx)].rstrip('-')\n",
    "        print(gapped_seq[:len(ungapped_mtx)])\n",
    "        gapped_mtx = gapped_mtx[:len(gapped_seq)]\n",
    "        print(gapped_mtx.shape)\n",
    "        \n",
    "    gapped_len = len(gapped_mtx)\n",
    "    gapped_sum = gapped_mtx.sum()\n",
    "    print(ungapped_seq)\n",
    "    print(gapped_seq)\n",
    "    print(len(ungapped_mtx) , len(gapped_mtx) , gapped_sum)\n",
    "    \n",
    "    for i in range(len(ungapped_mtx) - len(gapped_mtx)+1):\n",
    "        \n",
    "        print(ungapped_seq[i:i+gapped_len])\n",
    "        print(gapped_seq)\n",
    "        print(i,(ungapped_mtx[i:i+gapped_len] * gapped_mtx).sum() , gapped_sum)\n",
    "        \n",
    "        if (ungapped_mtx[i:i+gapped_len] * gapped_mtx).sum() == gapped_sum:\n",
    "            break\n",
    "    return [i,gapped_len + i]\n",
    "    "
   ]
  },
  {
   "cell_type": "code",
   "execution_count": null,
   "id": "45721429-511e-409b-b4d2-1bf6518f21b0",
   "metadata": {},
   "outputs": [],
   "source": []
  }
 ],
 "metadata": {
  "kernelspec": {
   "display_name": "Python 3 (ipykernel)",
   "language": "python",
   "name": "python3"
  },
  "language_info": {
   "codemirror_mode": {
    "name": "ipython",
    "version": 3
   },
   "file_extension": ".py",
   "mimetype": "text/x-python",
   "name": "python",
   "nbconvert_exporter": "python",
   "pygments_lexer": "ipython3",
   "version": "3.12.6"
  }
 },
 "nbformat": 4,
 "nbformat_minor": 5
}
