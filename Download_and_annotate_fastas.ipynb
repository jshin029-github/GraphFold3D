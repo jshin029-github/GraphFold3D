{
 "cells": [
  {
   "cell_type": "code",
   "execution_count": 100,
   "id": "006b4b9e-460b-4076-b561-dc6077400f98",
   "metadata": {},
   "outputs": [],
   "source": [
    "import json\n",
    "import requests\n",
    "\n",
    "import re\n",
    "\n",
    "from tqdm.notebook import tqdm\n",
    "\n",
    "from Bio import Align, SeqIO"
   ]
  },
  {
   "cell_type": "code",
   "execution_count": 3,
   "id": "82234f56-649b-4796-80f0-99d2039d75b9",
   "metadata": {},
   "outputs": [],
   "source": [
    "with open('filtered_pdb_with_reads.json','r') as f:\n",
    "    filtered_seqs = json.load(f)"
   ]
  },
  {
   "cell_type": "code",
   "execution_count": null,
   "id": "3cf50f53-2d9b-4693-91d6-f2754a794c19",
   "metadata": {},
   "outputs": [],
   "source": []
  },
  {
   "cell_type": "code",
   "execution_count": 5,
   "id": "16668567-6bd1-4333-a154-732c0519a0bc",
   "metadata": {},
   "outputs": [
    {
     "data": {
      "application/vnd.jupyter.widget-view+json": {
       "model_id": "7d7c97703e6d48119e2291137406e44b",
       "version_major": 2,
       "version_minor": 0
      },
      "text/plain": [
       "  0%|          | 0/1287 [00:00<?, ?it/s]"
      ]
     },
     "metadata": {},
     "output_type": "display_data"
    }
   ],
   "source": [
    "# Download the FASTA files for all of the sequences\n",
    "\n",
    "missing_seqs = []\n",
    "pdb_set = set([])\n",
    "\n",
    "for k,v in tqdm(filtered_seqs.items(),total=len(filtered_seqs)):\n",
    "    if v['pdb'] in pdb_set:\n",
    "        continue\n",
    "    r = requests.get(f\"https://www.rcsb.org/fasta/entry/{v['pdb']}\")\n",
    "    if r.status_code == requests.codes.ok:\n",
    "        with open(f\"data/fasta/{v['pdb']}.fasta\", 'w') as f:\n",
    "            f.write(r.text)\n",
    "    else:\n",
    "        missing_seqs += [(v['pdb'],v)]"
   ]
  },
  {
   "cell_type": "code",
   "execution_count": 13,
   "id": "4efa1aa6-1cab-411f-b3e5-3a140a28c784",
   "metadata": {},
   "outputs": [],
   "source": [
    "# Remove extraneous sequence from the library \n",
    "# this particular sequence had a \"pdb-like\" id 88F8 and was incorrectly kept in during filtering\n",
    "\n",
    "del filtered_seqs['design_name:88F8: Deinococcus radiodurans R1 chromosome 1']"
   ]
  },
  {
   "cell_type": "code",
   "execution_count": null,
   "id": "d5f375b5-729b-4fb2-8185-2931e397ef76",
   "metadata": {},
   "outputs": [],
   "source": []
  },
  {
   "cell_type": "code",
   "execution_count": 272,
   "id": "5aa9f83a-3167-4538-a829-6b803037889b",
   "metadata": {},
   "outputs": [],
   "source": [
    "def getLongestMatch(str1,str2):\n",
    "    \"\"\"\n",
    "    Function to get the indexes corresponding to the largest continguous mapping between str1 and str2\n",
    "    \"\"\"\n",
    "\n",
    "    # Set up aligner class with gap penalties to prefer contiguous sequences\n",
    "    aligner = Align.PairwiseAligner()\n",
    "    aligner.mode = 'local'\n",
    "    \n",
    "    aligner.match_score = 2\n",
    "    aligner.gap_score = -1\n",
    "    aligner.mismatch_score = -1\n",
    "\n",
    "    # align the two sequences\n",
    "    alignment = aligner.align(str1,str2)\n",
    "\n",
    "    # identify if there is an alignment (return no alignment if not)\n",
    "    try:\n",
    "        alignment = alignment[0]\n",
    "    except IndexError:\n",
    "        return (None,0)\n",
    "\n",
    "    # find the longest contiguous alignment between the two strings\n",
    "    max_len_contig = sorted(alignment.aligned[0],key = lambda s: abs(s[1]-s[0]))[-1]\n",
    "\n",
    "    # return the indices corresponding to the longest contiguous alignment and its length\n",
    "    return (max_len_contig,abs(max_len_contig[1] - max_len_contig[0]))"
   ]
  },
  {
   "cell_type": "code",
   "execution_count": 273,
   "id": "fda064ff-1d4b-435e-99e5-ec865d807fc4",
   "metadata": {},
   "outputs": [
    {
     "data": {
      "application/vnd.jupyter.widget-view+json": {
       "model_id": "5dec7565d05f48dd9664a1d0e679be79",
       "version_major": 2,
       "version_minor": 0
      },
      "text/plain": [
       "  0%|          | 0/1286 [00:00<?, ?it/s]"
      ]
     },
     "metadata": {},
     "output_type": "display_data"
    }
   ],
   "source": [
    "# iterate through the library sequences and find the correct RNA chain in the pdb files\n",
    "\n",
    "for k,v in tqdm(filtered_seqs.items(),total=len(filtered_seqs)):\n",
    "    top_alignment = (None,None,0)\n",
    "\n",
    "    with open(f\"data/fasta/{v['pdb']}.fasta\",'r') as f:\n",
    "        # loop through each chain in the pdb fasta file\n",
    "        for record in SeqIO.parse(f,'fasta'):\n",
    "            # find the longest aligned subsequence between the chain and the library sequence\n",
    "            max_len_contig = getLongestMatch(v['sequence'],str(record.seq))\n",
    "\n",
    "            # if this chain has the longest match to the library sequence, save it as the correct \"match\"\n",
    "            if max_len_contig[1] > top_alignment[2]:\n",
    "                top_alignment = (record.description,*max_len_contig)\n",
    "\n",
    "    # save the longest match as the \"correct chain\" in the pdb file\n",
    "    filtered_seqs[k].update({'chain':top_alignment[0],\n",
    "                             'fasta_idxs':top_alignment[1]})"
   ]
  },
  {
   "cell_type": "code",
   "execution_count": 301,
   "id": "13eb6950-db8c-4f11-b106-860d3730d280",
   "metadata": {},
   "outputs": [
    {
     "data": {
      "application/vnd.jupyter.widget-view+json": {
       "model_id": "369d0d7247db4d9693306e4f58730de6",
       "version_major": 2,
       "version_minor": 0
      },
      "text/plain": [
       "  0%|          | 0/1286 [00:00<?, ?it/s]"
      ]
     },
     "metadata": {},
     "output_type": "display_data"
    }
   ],
   "source": [
    "# store the edge index for the base pairs stored in the FR3D database\n",
    "\n",
    "FR3D_pairs = {}\n",
    "\n",
    "for k,v in tqdm(filtered_seqs.items(),total=len(filtered_seqs)):\n",
    "    edge_list = []\n",
    "    try:\n",
    "        chain_id = re.findall(r'\\[auth ([A-Za-z0-9]+)\\]',v['chain'])[0]\n",
    "    except IndexError:\n",
    "        chain_id = re.findall(r'Chain[s]* ([A-Za-z0-9]+)',v['chain'])[0]\n",
    "    offset = int(v['fasta_idxs'][0])\n",
    "\n",
    "    with open(f\"data/FR3D/{v['pdb']}.csv\",'r') as f:\n",
    "        fred_sequence = {}\n",
    "        for line in f.readlines():\n",
    "            line = line.rstrip().replace('\"','')\n",
    "            nodes = re.findall(rf\"{v['pdb']}\\|1\\|{chain_id}\\|([AUGC])\\|(\\d+)\",line)\n",
    "            if len(nodes) > 0:\n",
    "                for node in nodes:\n",
    "                    fred_sequence[int(node[1])] = node[0]\n",
    "            if len(nodes) == 2:\n",
    "                if nodes[0][1] == nodes[1][1]:\n",
    "                    continue\n",
    "\n",
    "                words = line.split(',')\n",
    "                if len(words[1]+words[3]+words[4]) > 0:\n",
    "                    edge_list += [(offset+int(nodes[0][1])-1,offset+int(nodes[1][1])-1)]\n",
    "\n",
    "    FR3D_pairs[k] = {\n",
    "        'sequence':v['sequence'],\n",
    "        'FR3D_edge_list':edge_list} \n",
    "    break"
   ]
  },
  {
   "cell_type": "code",
   "execution_count": null,
   "id": "e1a436eb-3b95-48d9-882a-a4a3a5ef0c67",
   "metadata": {},
   "outputs": [],
   "source": [
    "def getLongestSubsequence(l):\n",
    "    \"\"\"to do !!!\"\"\"\n",
    "    pass"
   ]
  },
  {
   "cell_type": "code",
   "execution_count": null,
   "id": "796c79b2-35be-49ef-9d1d-426e694eccb5",
   "metadata": {},
   "outputs": [],
   "source": []
  },
  {
   "cell_type": "code",
   "execution_count": 241,
   "id": "d9ed9045-362b-4f56-912f-f9a888e4e18b",
   "metadata": {},
   "outputs": [],
   "source": [
    "with open('FR3D_annotations.json','w') as f:\n",
    "    json.dump(FR3D_pairs,f)"
   ]
  },
  {
   "cell_type": "code",
   "execution_count": null,
   "id": "9c9c699f-2f42-420a-b350-77fd9cc65022",
   "metadata": {},
   "outputs": [],
   "source": []
  },
  {
   "cell_type": "code",
   "execution_count": null,
   "id": "269f66f3-f963-4f37-b83e-2ac85d2ebf78",
   "metadata": {},
   "outputs": [],
   "source": []
  }
 ],
 "metadata": {
  "kernelspec": {
   "display_name": "Python 3 (ipykernel)",
   "language": "python",
   "name": "python3"
  },
  "language_info": {
   "codemirror_mode": {
    "name": "ipython",
    "version": 3
   },
   "file_extension": ".py",
   "mimetype": "text/x-python",
   "name": "python",
   "nbconvert_exporter": "python",
   "pygments_lexer": "ipython3",
   "version": "3.13.0"
  }
 },
 "nbformat": 4,
 "nbformat_minor": 5
}
