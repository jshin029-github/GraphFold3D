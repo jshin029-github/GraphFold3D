{
 "cells": [
  {
   "cell_type": "code",
   "execution_count": 1,
   "id": "4kOjrIjCBdgI",
   "metadata": {
    "colab": {
     "base_uri": "https://localhost:8080/"
    },
    "id": "4kOjrIjCBdgI",
    "outputId": "8295ef9f-4a0a-4a17-fe56-9bd95b11326d"
   },
   "outputs": [],
   "source": [
    "import os\n",
    "import torch\n",
    "\n",
    "# torch_version = str(torch.__version__)\n",
    "# scatter_src = f\"https://pytorch-geometric.com/whl/torch-{torch_version}.html\"\n",
    "# sparse_src = f\"https://pytorch-geometric.com/whl/torch-{torch_version}.html\"\n",
    "# !pip install torch-scatter -f $scatter_src\n",
    "# !pip install torch-sparse -f $sparse_src\n",
    "# !pip install torch-geometric\n",
    "# !pip install -U -q PyDrive"
   ]
  },
  {
   "cell_type": "code",
   "execution_count": 3,
   "id": "4JAy94UtCoaH",
   "metadata": {
    "colab": {
     "base_uri": "https://localhost:8080/"
    },
    "id": "4JAy94UtCoaH",
    "outputId": "78d8d22c-b355-4eb9-f231-e39018265fb1"
   },
   "outputs": [],
   "source": [
    "# !nvcc --version\n",
    "# !python -c \"import torch; print(torch.version.cuda)\""
   ]
  },
  {
   "cell_type": "code",
   "execution_count": 4,
   "id": "59ea6d28-48f3-4d3b-940c-6634ae5d9519",
   "metadata": {
    "id": "59ea6d28-48f3-4d3b-940c-6634ae5d9519"
   },
   "outputs": [],
   "source": [
    "import numpy as np\n",
    "\n",
    "from torch_geometric.data import HeteroData, Data\n",
    "from torch_geometric.loader import DataLoader\n",
    "from torch_geometric.nn import HeteroConv, GCNConv, SAGEConv, GATConv, Linear\n",
    "from torch_geometric.nn.models import InnerProductDecoder\n",
    "from torch.nn.functional import cross_entropy\n",
    "\n",
    "from tqdm import trange"
   ]
  },
  {
   "cell_type": "code",
   "execution_count": 5,
   "id": "d0d2e597-c079-4673-bc1c-740419bfbd58",
   "metadata": {
    "colab": {
     "base_uri": "https://localhost:8080/"
    },
    "id": "d0d2e597-c079-4673-bc1c-740419bfbd58",
    "outputId": "412e8294-e496-47a2-fda3-6c523c4d2a88"
   },
   "outputs": [
    {
     "name": "stderr",
     "output_type": "stream",
     "text": [
      "C:\\Users\\jshin\\AppData\\Local\\Temp\\ipykernel_30376\\968119220.py:2: FutureWarning: You are using `torch.load` with `weights_only=False` (the current default value), which uses the default pickle module implicitly. It is possible to construct malicious pickle data which will execute arbitrary code during unpickling (See https://github.com/pytorch/pytorch/blob/main/SECURITY.md#untrusted-models for more details). In a future release, the default value for `weights_only` will be flipped to `True`. This limits the functions that could be executed during unpickling. Arbitrary objects will no longer be allowed to be loaded via this mode unless they are explicitly allowlisted by the user via `torch.serialization.add_safe_globals`. We recommend you start setting `weights_only=True` for any use case where you don't have full control of the loaded file. Please open an issue on GitHub for any issues related to this experimental feature.\n",
      "  all_data = torch.load(f)\n"
     ]
    }
   ],
   "source": [
    "with open('Compiled_data.dat','rb') as f:\n",
    "    all_data = torch.load(f)"
   ]
  },
  {
   "cell_type": "code",
   "execution_count": 6,
   "id": "7c97c8bf-a0a2-469c-9e71-264bf127de48",
   "metadata": {
    "id": "7c97c8bf-a0a2-469c-9e71-264bf127de48"
   },
   "outputs": [],
   "source": [
    "loader = DataLoader(all_data, batch_size=32,shuffle=False)"
   ]
  },
  {
   "cell_type": "code",
   "execution_count": 7,
   "id": "408ff37f-cf7f-4e06-ac35-583ed4f04375",
   "metadata": {
    "id": "408ff37f-cf7f-4e06-ac35-583ed4f04375"
   },
   "outputs": [],
   "source": [
    "import torch.optim as optim\n",
    "\n",
    "def build_optimizer(args, params):\n",
    "    weight_decay = args.weight_decay\n",
    "    filter_fn = filter(lambda p : p.requires_grad, params)\n",
    "    if args.opt == 'adam':\n",
    "        optimizer = optim.Adam(filter_fn, lr=args.lr, weight_decay=weight_decay)\n",
    "    elif args.opt == 'sgd':\n",
    "        optimizer = optim.SGD(filter_fn, lr=args.lr, momentum=0.95, weight_decay=weight_decay)\n",
    "    elif args.opt == 'rmsprop':\n",
    "        optimizer = optim.RMSprop(filter_fn, lr=args.lr, weight_decay=weight_decay)\n",
    "    elif args.opt == 'adagrad':\n",
    "        optimizer = optim.Adagrad(filter_fn, lr=args.lr, weight_decay=weight_decay)\n",
    "    if args.opt_scheduler == 'none':\n",
    "        return None, optimizer\n",
    "    elif args.opt_scheduler == 'step':\n",
    "        scheduler = optim.lr_scheduler.StepLR(optimizer, step_size=args.opt_decay_step, gamma=args.opt_decay_rate)\n",
    "    elif args.opt_scheduler == 'cos':\n",
    "        scheduler = optim.lr_scheduler.CosineAnnealingLR(optimizer, T_max=args.opt_restart)\n",
    "    return scheduler, optimizer"
   ]
  },
  {
   "cell_type": "code",
   "execution_count": 8,
   "id": "9efef4b2-0575-40b1-bb97-e37381626266",
   "metadata": {
    "id": "9efef4b2-0575-40b1-bb97-e37381626266"
   },
   "outputs": [],
   "source": [
    "class objectview(object):\n",
    "    def __init__(self, d):\n",
    "        self.__dict__ = d\n",
    "args = objectview({'model_type': 'GAT', 'dataset': 'cora', 'num_layers': 2, 'heads': 1, 'batch_size': 32,\n",
    "          'hidden_dim': 32, 'dropout': 0.5, 'epochs': 500,\n",
    "          'opt': 'adam', 'opt_scheduler': 'none', 'opt_restart': 0, 'weight_decay': 5e-3, 'lr': 0.01,\n",
    "          'device': torch.device('cuda' if torch.cuda.is_available() else 'cpu')})"
   ]
  },
  {
   "cell_type": "code",
   "execution_count": null,
   "id": "d22db39c-5a11-4af0-84d2-c293a8ce43c3",
   "metadata": {
    "id": "d22db39c-5a11-4af0-84d2-c293a8ce43c3"
   },
   "outputs": [],
   "source": []
  },
  {
   "cell_type": "code",
   "execution_count": null,
   "id": "f88ee125-520c-4c59-800b-0137fed39cab",
   "metadata": {
    "id": "f88ee125-520c-4c59-800b-0137fed39cab"
   },
   "outputs": [],
   "source": []
  },
  {
   "cell_type": "code",
   "execution_count": null,
   "id": "dec13c7e-b315-4fe0-9004-5ce122a0b8dc",
   "metadata": {
    "id": "dec13c7e-b315-4fe0-9004-5ce122a0b8dc"
   },
   "outputs": [],
   "source": []
  },
  {
   "cell_type": "code",
   "execution_count": 17,
   "id": "3180e582-d9fa-40b0-884b-61cf63b7d383",
   "metadata": {
    "id": "3180e582-d9fa-40b0-884b-61cf63b7d383"
   },
   "outputs": [],
   "source": [
    "class HeteroGAT(torch.nn.Module):\n",
    "    '''\n",
    "    Code template taken from the pytorch-geometric tutorial\n",
    "    https://pytorch-geometric.readthedocs.io/en/2.5.1/notes/heterogeneous.html\n",
    "    '''\n",
    "    def __init__(self, hidden_channels, out_channels, num_node_features, num_layers, device):\n",
    "        super().__init__()\n",
    "\n",
    "        self.convs = torch.nn.ModuleList()\n",
    "        for _ in range(num_layers):\n",
    "            conv = HeteroConv({\n",
    "                ('nuc', 'mxfold', 'nuc'): GATConv((-1, -1), hidden_channels, add_self_loops=False),\n",
    "                ('nuc', 'connected', 'nuc'): GATConv((-1, -1), hidden_channels, add_self_loops=False),\n",
    "            }, aggr='mean')\n",
    "            self.convs.append(conv)\n",
    "\n",
    "        self.enc_lin = Linear(num_node_features,hidden_channels)\n",
    "        self.mp_lin = Linear(hidden_channels, out_channels)\n",
    "        self.dec = InnerProductDecoder()\n",
    "\n",
    "        self.pos_edges = ('nuc','FR3D','nuc')\n",
    "        self.neg_edges = ('nuc','neg_FR3D','nuc')\n",
    "\n",
    "        self.device = device\n",
    "\n",
    "    def forward(self, x_dict, edge_index_dict):\n",
    "        x = self.enc_lin(x_dict['nuc'])\n",
    "        x = x.relu()\n",
    "\n",
    "        for conv in self.convs:\n",
    "            x = conv({'nuc':x}, edge_index_dict)['nuc']\n",
    "            x = self.mp_lin(x)\n",
    "            x = x.relu()\n",
    "\n",
    "        return x\n",
    "\n",
    "    def loss(self, x, edge_index_dict):\n",
    "        '''\n",
    "        cross entropy loss for positive and negative edge predictions\n",
    "        '''\n",
    "        pos_labels = self.dec(x,edge_index_dict[self.pos_edges])\n",
    "        neg_labels = self.dec(x,edge_index_dict[self.neg_edges])\n",
    "        n_edges = pos_labels.shape # should be same number of positive and negative edges\n",
    "        labels = torch.cat([torch.ones(n_edges),torch.zeros(n_edges)]).to(self.device)\n",
    "        predictions = torch.cat([pos_labels,neg_labels])\n",
    "        \n",
    "        return cross_entropy(predictions,labels)"
   ]
  },
  {
   "cell_type": "code",
   "execution_count": 18,
   "id": "4cb4e336-62a2-4f3f-b104-5ba40b58d1a8",
   "metadata": {
    "colab": {
     "base_uri": "https://localhost:8080/",
     "height": 804
    },
    "id": "4cb4e336-62a2-4f3f-b104-5ba40b58d1a8",
    "outputId": "71924689-dcd1-4292-b032-3b5bc2d2c67d"
   },
   "outputs": [
    {
     "name": "stderr",
     "output_type": "stream",
     "text": [
      "Training:   0%|                                                                                         | 0/500 [00:01<?, ?Epochs/s]"
     ]
    },
    {
     "name": "stdout",
     "output_type": "stream",
     "text": [
      "19455.67063844359\n"
     ]
    },
    {
     "name": "stderr",
     "output_type": "stream",
     "text": [
      "\n"
     ]
    }
   ],
   "source": [
    "model = HeteroGAT(hidden_channels=64, out_channels=64,\n",
    "                  num_node_features = 6, num_layers=2,\n",
    "                  device = args.device).to(args.device)\n",
    "\n",
    "scheduler, opt = build_optimizer(args, model.parameters())\n",
    "\n",
    "losses = []\n",
    "test_accs = []\n",
    "best_acc = 0\n",
    "best_model = None\n",
    "\n",
    "for epoch in trange(args.epochs, desc=\"Training\", unit=\"Epochs\"):\n",
    "    total_loss = 0\n",
    "    model.train()\n",
    "    for batch in loader:\n",
    "        batch = batch.to(args.device)\n",
    "        opt.zero_grad()\n",
    "        x = model(batch.x_dict,batch.edge_index_dict)\n",
    "        # pred = pred[batch.train_mask]\n",
    "        # label = label[batch.train_mask]\n",
    "        loss = model.loss(x, batch.edge_index_dict)\n",
    "        loss.backward()\n",
    "        opt.step()\n",
    "        total_loss += loss.item() * batch.num_graphs\n",
    "    total_loss /= len(loader.dataset)\n",
    "    losses.append(total_loss)\n",
    "\n",
    "    if epoch % 10 == 0:\n",
    "        print(total_loss)\n",
    "        break\n",
    "    #   test_acc = test(test_loader, model)\n",
    "    #   test_accs.append(test_acc)\n",
    "    #   if test_acc > best_acc:\n",
    "    #     best_acc = test_acc\n",
    "    #     best_model = copy.deepcopy(model)\n",
    "    # else:\n",
    "    #   test_accs.append(test_accs[-1])"
   ]
  }
 ],
 "metadata": {
  "accelerator": "GPU",
  "colab": {
   "gpuType": "T4",
   "provenance": []
  },
  "kernelspec": {
   "display_name": "Python 3 (ipykernel)",
   "language": "python",
   "name": "python3"
  },
  "language_info": {
   "codemirror_mode": {
    "name": "ipython",
    "version": 3
   },
   "file_extension": ".py",
   "mimetype": "text/x-python",
   "name": "python",
   "nbconvert_exporter": "python",
   "pygments_lexer": "ipython3",
   "version": "3.12.6"
  }
 },
 "nbformat": 4,
 "nbformat_minor": 5
}
