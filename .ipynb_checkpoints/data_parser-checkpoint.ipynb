{
 "cells": [
  {
   "cell_type": "code",
   "execution_count": 1,
   "id": "a0e83383-2354-461b-8131-8820f7847b64",
   "metadata": {},
   "outputs": [],
   "source": [
    "import rdat_kit\n",
    "import re\n",
    "import numpy as np"
   ]
  },
  {
   "cell_type": "code",
   "execution_count": 2,
   "id": "100044b6-be5a-4131-9932-93afac27c05c",
   "metadata": {},
   "outputs": [],
   "source": [
    "rdat = rdat_kit.RDATFile()"
   ]
  },
  {
   "cell_type": "code",
   "execution_count": 3,
   "id": "1e7dc6be-1bc1-4ff9-b9af-060d149f6374",
   "metadata": {},
   "outputs": [],
   "source": [
    "with open('data/PDB130_2A3_0000.rdat') as f:\n",
    "    rdat.load(f)"
   ]
  },
  {
   "cell_type": "code",
   "execution_count": 4,
   "id": "a9310883-209e-4a1b-838e-d40f7e0d1daa",
   "metadata": {},
   "outputs": [],
   "source": [
    "constructs = []\n",
    "for row in rdat.constructs['DasLabBigLib2_OneMil2_pdb'].data:\n",
    "    constructs += [row.annotations['name']]"
   ]
  },
  {
   "cell_type": "code",
   "execution_count": 5,
   "id": "239fff39-c032-4af9-917a-5cfce5f017a3",
   "metadata": {},
   "outputs": [],
   "source": [
    "with open('pdb130_constructs.txt','w') as f:\n",
    "    for line in sorted(constructs):\n",
    "        f.write(line[0])\n",
    "        f.write('\\n')"
   ]
  },
  {
   "cell_type": "code",
   "execution_count": null,
   "id": "f7d0fd54-2a94-48b0-8a6d-b330678e2555",
   "metadata": {},
   "outputs": [],
   "source": []
  },
  {
   "cell_type": "code",
   "execution_count": 6,
   "id": "813acf79-88d4-4f27-9f29-ee8b79a5fc1c",
   "metadata": {},
   "outputs": [],
   "source": [
    "rdat_130_dms = rdat_kit.RDATFile()\n",
    "with open('data/PDB130_DMS_0000.rdat') as f:\n",
    "    rdat_130_dms.load(f)"
   ]
  },
  {
   "cell_type": "code",
   "execution_count": 7,
   "id": "c3510b83-9102-4db5-97f2-3eb14f950753",
   "metadata": {},
   "outputs": [],
   "source": [
    "constructs_dms = []\n",
    "for row in rdat_130_dms.constructs['DasLabBigLib2_OneMil2_pdb'].data:\n",
    "    constructs_dms += [row.annotations['name']]"
   ]
  },
  {
   "cell_type": "code",
   "execution_count": 8,
   "id": "a898378b-c1a4-4825-9bb1-cac19074cc62",
   "metadata": {},
   "outputs": [
    {
     "data": {
      "text/plain": [
       "True"
      ]
     },
     "execution_count": 8,
     "metadata": {},
     "output_type": "execute_result"
    }
   ],
   "source": [
    "constructs == constructs_dms"
   ]
  },
  {
   "cell_type": "code",
   "execution_count": null,
   "id": "89eb9c89-f493-41e8-ad60-ca31e4484243",
   "metadata": {},
   "outputs": [],
   "source": []
  },
  {
   "cell_type": "code",
   "execution_count": null,
   "id": "4ecbabb4-29af-4485-8fe2-4831162bb198",
   "metadata": {},
   "outputs": [],
   "source": []
  },
  {
   "cell_type": "code",
   "execution_count": 9,
   "id": "12ad0602-a30f-4def-8b0c-958564fac0c0",
   "metadata": {},
   "outputs": [],
   "source": [
    "rdat2 = rdat_kit.RDATFile()"
   ]
  },
  {
   "cell_type": "code",
   "execution_count": 10,
   "id": "9cb94089-2ecd-4559-bf5c-1b40d533cee7",
   "metadata": {},
   "outputs": [],
   "source": [
    "with open('data/POS240_2A3_0000.rdat') as f:\n",
    "    rdat2.load(f)"
   ]
  },
  {
   "cell_type": "code",
   "execution_count": 11,
   "id": "a255772d-d5f1-474a-b8eb-b5eec8eae58f",
   "metadata": {},
   "outputs": [],
   "source": [
    "rdat_240_dms = rdat_kit.RDATFile()\n",
    "with open('data/POS240_DMS_0000.rdat') as f:\n",
    "    rdat_240_dms.load(f)"
   ]
  },
  {
   "cell_type": "code",
   "execution_count": 12,
   "id": "8b11d548-a9ef-4497-9f34-032de63f0c49",
   "metadata": {},
   "outputs": [],
   "source": [
    "constructs2 = []\n",
    "for row in rdat2.constructs['Positives240'].data:\n",
    "    constructs2 += [row.annotations['Eterna'][1]]"
   ]
  },
  {
   "cell_type": "code",
   "execution_count": 13,
   "id": "f509599e-6837-4b5f-afd4-95ca29e6e583",
   "metadata": {},
   "outputs": [],
   "source": [
    "with open('POS240_constructs.txt','w') as f:\n",
    "    for line in sorted(constructs2):\n",
    "        f.write(line)\n",
    "        f.write('\\n')"
   ]
  },
  {
   "cell_type": "code",
   "execution_count": 14,
   "id": "dff0c3b0-21df-47a5-afc6-4db69248ef14",
   "metadata": {},
   "outputs": [],
   "source": [
    "constructs2_dms = []\n",
    "for row in rdat_240_dms.constructs['Positives240'].data:\n",
    "    constructs2_dms += [row.annotations['Eterna'][1]]"
   ]
  },
  {
   "cell_type": "code",
   "execution_count": 15,
   "id": "76037478-a3bf-459a-8a5c-aa914fd9bd4b",
   "metadata": {},
   "outputs": [
    {
     "data": {
      "text/plain": [
       "True"
      ]
     },
     "execution_count": 15,
     "metadata": {},
     "output_type": "execute_result"
    }
   ],
   "source": [
    "constructs2 == constructs2_dms"
   ]
  },
  {
   "cell_type": "code",
   "execution_count": null,
   "id": "f6878790-7942-4bdf-94f0-7ab3e52de979",
   "metadata": {},
   "outputs": [],
   "source": []
  },
  {
   "cell_type": "code",
   "execution_count": null,
   "id": "0ed3c5f8-217c-445a-b3af-a00f5cfa1c0e",
   "metadata": {},
   "outputs": [],
   "source": []
  },
  {
   "cell_type": "code",
   "execution_count": 16,
   "id": "b91e51e9-7b0d-45df-a4ac-631173f052c8",
   "metadata": {},
   "outputs": [],
   "source": [
    "pdb_130 = []\n",
    "for name in constructs:\n",
    "    foo = name[0].split(';')[0]\n",
    "    foo_idx = np.where([re.search('_[0-9]+pad[0-9]+_',s) for s in foo.split(':')])[0][0]\n",
    "    pdb_130 += ['_'.join(foo.split(':')[foo_idx-1:foo_idx+1])]"
   ]
  },
  {
   "cell_type": "code",
   "execution_count": 17,
   "id": "a578198d-5fb1-4535-969b-07cf32c759da",
   "metadata": {
    "scrolled": true
   },
   "outputs": [],
   "source": [
    "pdb_240 = []\n",
    "for name in constructs2:\n",
    "    foo = name.split(':')\n",
    "    if re.match(r'[0-9]\\S\\S\\S',foo[1]):\n",
    "        pdb_240 += [foo[1]]\n",
    "    elif 'pdb' in foo[1]:\n",
    "        pdb_240 += [foo[1]]        "
   ]
  },
  {
   "cell_type": "code",
   "execution_count": null,
   "id": "02acae23-7669-41ff-bae3-e1409349e543",
   "metadata": {},
   "outputs": [],
   "source": []
  },
  {
   "cell_type": "code",
   "execution_count": null,
   "id": "65ea6c0d-716b-4ec1-ab4b-44138d54b358",
   "metadata": {},
   "outputs": [],
   "source": []
  },
  {
   "cell_type": "code",
   "execution_count": 18,
   "id": "7021ba33-4f84-4b0a-a2dc-bf24c81684a3",
   "metadata": {},
   "outputs": [],
   "source": [
    "unpadded_130_pdbs = []\n",
    "\n",
    "for row in rdat.constructs['DasLabBigLib2_OneMil2_pdb'].data:\n",
    "    name = row.annotations['name'][0]\n",
    "    if 'pdb' in name:\n",
    "        if len(re.findall('_0pad0_',name)) > 0:\n",
    "            continue\n",
    "        else:\n",
    "            unpadded_130_pdbs += [name]"
   ]
  },
  {
   "cell_type": "code",
   "execution_count": 19,
   "id": "1ad6d21c-14e4-4697-9940-61b4af59ff0a",
   "metadata": {},
   "outputs": [
    {
     "name": "stdout",
     "output_type": "stream",
     "text": [
      "1038\n",
      "1038\n"
     ]
    }
   ],
   "source": [
    "print(len(unpadded_130_pdbs))\n",
    "unpadded_130_pdbs = set(unpadded_130_pdbs)\n",
    "print(len(unpadded_130_pdbs))"
   ]
  },
  {
   "cell_type": "code",
   "execution_count": 20,
   "id": "10e5e88f-fc34-4c28-8769-74884446b091",
   "metadata": {},
   "outputs": [],
   "source": [
    "unpadded_240_pdbs = []\n",
    "for row in rdat2.constructs['Positives240'].data:\n",
    "    name = row.annotations['Eterna'][1]\n",
    "    if 'pdb' in name:\n",
    "        unpadded_240_pdbs += [name]\n",
    "    elif re.search(r':[0-9]\\S\\S\\S:',name):\n",
    "        unpadded_240_pdbs += [name]"
   ]
  },
  {
   "cell_type": "code",
   "execution_count": 21,
   "id": "a81c3213-299f-4b32-b1b2-6ccc0685ca95",
   "metadata": {},
   "outputs": [
    {
     "data": {
      "text/plain": [
       "'design_name:6QW6: Homo sapiens U6 snRNA'"
      ]
     },
     "execution_count": 21,
     "metadata": {},
     "output_type": "execute_result"
    }
   ],
   "source": [
    "foo = []\n",
    "for i in unpadded_240_pdbs:\n",
    "    if i not in foo:\n",
    "        foo += [i]\n",
    "    else:\n",
    "        break\n",
    "i"
   ]
  },
  {
   "cell_type": "code",
   "execution_count": 22,
   "id": "fafbb4bb-e3d2-47ea-989a-a2dd472a2d20",
   "metadata": {},
   "outputs": [
    {
     "name": "stdout",
     "output_type": "stream",
     "text": [
      "249\n",
      "248\n"
     ]
    }
   ],
   "source": [
    "print(len(unpadded_240_pdbs))\n",
    "unpadded_240_pdbs = set(unpadded_240_pdbs)\n",
    "print(len(unpadded_240_pdbs))"
   ]
  },
  {
   "cell_type": "code",
   "execution_count": 29,
   "id": "8d1cca5b-e59f-46b1-8448-2a9ead495ce4",
   "metadata": {},
   "outputs": [
    {
     "name": "stdout",
     "output_type": "stream",
     "text": [
      "[] []\n"
     ]
    }
   ],
   "source": [
    "print([s for s in unpadded_130_pdbs if len(re.findall(r'pdb__[0-9][A-Z0-9]{3}',s))!=1],\n",
    "      [s for s in unpadded_240_pdbs if len(re.findall(r'design_name:(pdb\\|)*[0-9][A-Z0-9]{3}',s))!=1])"
   ]
  },
  {
   "cell_type": "code",
   "execution_count": 41,
   "id": "c588a350-187f-48df-88cd-003a5d18ceb8",
   "metadata": {},
   "outputs": [
    {
     "name": "stdout",
     "output_type": "stream",
     "text": [
      "updating construct  design_name:6QW6: Homo sapiens U6 snRNA\n",
      "updated construct  design_name:6QW6: Homo sapiens U6 snRNA_v1\n"
     ]
    }
   ],
   "source": [
    "filtered_data = {}\n",
    "\n",
    "for row in rdat.constructs['DasLabBigLib2_OneMil2_pdb'].data:\n",
    "    name = row.annotations['name'][0]\n",
    "    if name in unpadded_130_pdbs:\n",
    "        if name in filtered_data.keys():\n",
    "            print('updating construct ',name)\n",
    "            i = 1\n",
    "            while name in filtered_data.keys():\n",
    "                name = name.split('_v')[0]+f\"_v{i}\"\n",
    "                i += 1\n",
    "            print('updated construct ',name)\n",
    "        filtered_data[name] = {\n",
    "            'pdb':re.findall(r'pdb__([0-9][A-Z0-9]{3})',name)[0],\n",
    "            'sequence':row.annotations['sequence'][0],\n",
    "            '2A3_reads':row.annotations['reads'][0],\n",
    "            '2A3_signal_to_noise':row.annotations['signal_to_noise'][0],\n",
    "            '2A3_warning':row.annotations.get('warning',[]),\n",
    "            '2A3_values':row.values,\n",
    "            'source':'DasLabBigLib2-1M_PDB'}\n",
    "        \n",
    "for row in rdat2.constructs['Positives240'].data:\n",
    "    name = row.annotations['Eterna'][1]\n",
    "    if name in unpadded_240_pdbs:\n",
    "        if name in filtered_data.keys():\n",
    "            print('updating construct ',name)\n",
    "            i = 1\n",
    "            while name in filtered_data.keys():\n",
    "                name = name.split('_v')[0]+f\"_v{i}\"\n",
    "                i += 1\n",
    "            print('updated construct ',name)\n",
    "            \n",
    "        filtered_data[name] = {\n",
    "            'pdb':re.findall(r'design_name:(pdb\\|)*([0-9][A-Z0-9]{3})',name)[0][-1],\n",
    "            'sequence':row.annotations['sequence'][0],\n",
    "            '2A3_reads':row.annotations['reads'][0],\n",
    "            '2A3_signal_to_noise':row.annotations['signal_to_noise'][0],\n",
    "            '2A3_warning':row.annotations.get('warning',[]),\n",
    "            '2A3_values':row.values,\n",
    "            'source':'Positives240_PDB-1M_PDB'}"
   ]
  },
  {
   "cell_type": "code",
   "execution_count": 42,
   "id": "adf24675-c0d3-402a-9f85-99db5daf4588",
   "metadata": {},
   "outputs": [
    {
     "data": {
      "text/plain": [
       "1287"
      ]
     },
     "execution_count": 42,
     "metadata": {},
     "output_type": "execute_result"
    }
   ],
   "source": [
    "len(filtered_data)"
   ]
  },
  {
   "cell_type": "code",
   "execution_count": 43,
   "id": "4353dc59-c304-46eb-96ab-04fe7cc5e47d",
   "metadata": {},
   "outputs": [
    {
     "name": "stdout",
     "output_type": "stream",
     "text": [
      "updating construct  design_name:6QW6: Homo sapiens U6 snRNA\n",
      "updated construct  design_name:6QW6: Homo sapiens U6 snRNA_v1\n"
     ]
    }
   ],
   "source": [
    "dms_filtered_data_keys = set([])\n",
    "\n",
    "for row in rdat_130_dms.constructs['DasLabBigLib2_OneMil2_pdb'].data:\n",
    "    name = row.annotations['name'][0]\n",
    "    if name in unpadded_130_pdbs:\n",
    "        if name in dms_filtered_data_keys:\n",
    "            print('updating construct ',name)\n",
    "            i = 1\n",
    "            while name in dms_filtered_data_keys:\n",
    "                name = name.split('_v')[0]+f\"_v{i}\"\n",
    "                i += 1\n",
    "            print('updated construct ',name)\n",
    "        \n",
    "        dms_filtered_data_keys |= set([name])\n",
    "        filtered_data[name].update({\n",
    "            'DMS_reads':row.annotations['reads'][0],\n",
    "            'DMS_signal_to_noise':row.annotations['signal_to_noise'][0],\n",
    "            'DMS_warning':row.annotations.get('warning',[]),\n",
    "            'DMS_values':row.values,\n",
    "            'source':'DasLabBigLib2-1M_PDB'}\n",
    "        )\n",
    "\n",
    "for row in rdat2.constructs['Positives240'].data:\n",
    "    name = row.annotations['Eterna'][1]\n",
    "    if name in unpadded_240_pdbs:\n",
    "        if name in dms_filtered_data_keys:\n",
    "            print('updating construct ',name)\n",
    "            i = 1\n",
    "            while name in dms_filtered_data_keys:\n",
    "                name = name.split('_v')[0]+f\"_v{i}\"\n",
    "                i += 1\n",
    "            print('updated construct ',name)\n",
    "        dms_filtered_data_keys |= set([name])\n",
    "        filtered_data[name].update({\n",
    "            'DMS_reads':row.annotations['reads'],\n",
    "            'DMS_signal_to_noise':row.annotations['signal_to_noise'],\n",
    "            'DMS_warning':row.annotations.get('warning',[]),\n",
    "            'DMS_values':row.values,\n",
    "            'source':'Positives240_PDB-1M_PDB'}\n",
    "        )"
   ]
  },
  {
   "cell_type": "code",
   "execution_count": 44,
   "id": "3da4d95e-5ba4-4c58-9e4c-139ff76fabc1",
   "metadata": {},
   "outputs": [
    {
     "data": {
      "text/plain": [
       "1287"
      ]
     },
     "execution_count": 44,
     "metadata": {},
     "output_type": "execute_result"
    }
   ],
   "source": [
    "len(filtered_data)"
   ]
  },
  {
   "cell_type": "code",
   "execution_count": 45,
   "id": "03a0428e-597d-4678-aa33-9c51d2cd9ceb",
   "metadata": {},
   "outputs": [],
   "source": [
    "import json"
   ]
  },
  {
   "cell_type": "code",
   "execution_count": 46,
   "id": "030257a6-ceaf-4964-b8c9-bd4268b5b4ec",
   "metadata": {},
   "outputs": [],
   "source": [
    "with open('filtered_pdb_with_reads.json', 'w') as f:\n",
    "    json.dump(filtered_data,f)"
   ]
  },
  {
   "cell_type": "code",
   "execution_count": null,
   "id": "065bbb53-f5d9-45cc-84ae-34c012f65f96",
   "metadata": {},
   "outputs": [],
   "source": []
  }
 ],
 "metadata": {
  "kernelspec": {
   "display_name": "Python 3 (ipykernel)",
   "language": "python",
   "name": "python3"
  },
  "language_info": {
   "codemirror_mode": {
    "name": "ipython",
    "version": 3
   },
   "file_extension": ".py",
   "mimetype": "text/x-python",
   "name": "python",
   "nbconvert_exporter": "python",
   "pygments_lexer": "ipython3",
   "version": "3.13.0"
  }
 },
 "nbformat": 4,
 "nbformat_minor": 5
}
