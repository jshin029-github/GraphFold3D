{
 "cells": [
  {
   "cell_type": "code",
   "execution_count": 1,
   "id": "32fcf7b5-e5d1-4549-8c4f-23516540a53a",
   "metadata": {},
   "outputs": [],
   "source": [
    "import json"
   ]
  },
  {
   "cell_type": "code",
   "execution_count": 2,
   "id": "c3824aa4-b529-4b4f-ba98-3d9fd2cd0b52",
   "metadata": {},
   "outputs": [],
   "source": [
    "with open('filtered_pdb_with_reads.json','r') as f:\n",
    "    pdb_seqs = json.load(f)"
   ]
  },
  {
   "cell_type": "code",
   "execution_count": 8,
   "id": "091e9426-8cf1-418d-904f-646c4e3d52b1",
   "metadata": {},
   "outputs": [],
   "source": [
    "fasta_str = ''\n",
    "\n",
    "for k,v in pdb_seqs.items():\n",
    "    fasta_str += f\">{k}\\n\"\n",
    "    fasta_str += f\"{v['sequence']}\\n\""
   ]
  },
  {
   "cell_type": "code",
   "execution_count": 10,
   "id": "30daca64-e9e1-4217-b35e-e26fa451afc9",
   "metadata": {},
   "outputs": [],
   "source": [
    "with open('filtered_pdb_sequences.fasta','w') as f:\n",
    "    f.write(fasta_str)"
   ]
  },
  {
   "cell_type": "code",
   "execution_count": null,
   "id": "04f31b9c-bbb7-420b-b1ba-a1809216296c",
   "metadata": {},
   "outputs": [],
   "source": []
  }
 ],
 "metadata": {
  "kernelspec": {
   "display_name": "Python 3 (ipykernel)",
   "language": "python",
   "name": "python3"
  },
  "language_info": {
   "codemirror_mode": {
    "name": "ipython",
    "version": 3
   },
   "file_extension": ".py",
   "mimetype": "text/x-python",
   "name": "python",
   "nbconvert_exporter": "python",
   "pygments_lexer": "ipython3",
   "version": "3.13.0"
  }
 },
 "nbformat": 4,
 "nbformat_minor": 5
}
