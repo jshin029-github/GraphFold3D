{
  "cells": [
    {
      "cell_type": "code",
      "execution_count": 43,
      "id": "4kOjrIjCBdgI",
      "metadata": {
        "colab": {
          "base_uri": "https://localhost:8080/"
        },
        "id": "4kOjrIjCBdgI",
        "outputId": "78eafd43-7c46-4c31-e915-89bdf83d6ad5"
      },
      "outputs": [
        {
          "output_type": "stream",
          "name": "stdout",
          "text": [
            "Requirement already satisfied: torch-geometric in /usr/local/lib/python3.10/dist-packages (2.6.1)\n",
            "Requirement already satisfied: aiohttp in /usr/local/lib/python3.10/dist-packages (from torch-geometric) (3.11.10)\n",
            "Requirement already satisfied: fsspec in /usr/local/lib/python3.10/dist-packages (from torch-geometric) (2024.10.0)\n",
            "Requirement already satisfied: jinja2 in /usr/local/lib/python3.10/dist-packages (from torch-geometric) (3.1.4)\n",
            "Requirement already satisfied: numpy in /usr/local/lib/python3.10/dist-packages (from torch-geometric) (1.26.4)\n",
            "Requirement already satisfied: psutil>=5.8.0 in /usr/local/lib/python3.10/dist-packages (from torch-geometric) (5.9.5)\n",
            "Requirement already satisfied: pyparsing in /usr/local/lib/python3.10/dist-packages (from torch-geometric) (3.2.0)\n",
            "Requirement already satisfied: requests in /usr/local/lib/python3.10/dist-packages (from torch-geometric) (2.32.3)\n",
            "Requirement already satisfied: tqdm in /usr/local/lib/python3.10/dist-packages (from torch-geometric) (4.66.6)\n",
            "Requirement already satisfied: aiohappyeyeballs>=2.3.0 in /usr/local/lib/python3.10/dist-packages (from aiohttp->torch-geometric) (2.4.4)\n",
            "Requirement already satisfied: aiosignal>=1.1.2 in /usr/local/lib/python3.10/dist-packages (from aiohttp->torch-geometric) (1.3.1)\n",
            "Requirement already satisfied: async-timeout<6.0,>=4.0 in /usr/local/lib/python3.10/dist-packages (from aiohttp->torch-geometric) (4.0.3)\n",
            "Requirement already satisfied: attrs>=17.3.0 in /usr/local/lib/python3.10/dist-packages (from aiohttp->torch-geometric) (24.2.0)\n",
            "Requirement already satisfied: frozenlist>=1.1.1 in /usr/local/lib/python3.10/dist-packages (from aiohttp->torch-geometric) (1.5.0)\n",
            "Requirement already satisfied: multidict<7.0,>=4.5 in /usr/local/lib/python3.10/dist-packages (from aiohttp->torch-geometric) (6.1.0)\n",
            "Requirement already satisfied: propcache>=0.2.0 in /usr/local/lib/python3.10/dist-packages (from aiohttp->torch-geometric) (0.2.1)\n",
            "Requirement already satisfied: yarl<2.0,>=1.17.0 in /usr/local/lib/python3.10/dist-packages (from aiohttp->torch-geometric) (1.18.3)\n",
            "Requirement already satisfied: MarkupSafe>=2.0 in /usr/local/lib/python3.10/dist-packages (from jinja2->torch-geometric) (3.0.2)\n",
            "Requirement already satisfied: charset-normalizer<4,>=2 in /usr/local/lib/python3.10/dist-packages (from requests->torch-geometric) (3.4.0)\n",
            "Requirement already satisfied: idna<4,>=2.5 in /usr/local/lib/python3.10/dist-packages (from requests->torch-geometric) (3.10)\n",
            "Requirement already satisfied: urllib3<3,>=1.21.1 in /usr/local/lib/python3.10/dist-packages (from requests->torch-geometric) (2.2.3)\n",
            "Requirement already satisfied: certifi>=2017.4.17 in /usr/local/lib/python3.10/dist-packages (from requests->torch-geometric) (2024.8.30)\n",
            "Requirement already satisfied: typing-extensions>=4.1.0 in /usr/local/lib/python3.10/dist-packages (from multidict<7.0,>=4.5->aiohttp->torch-geometric) (4.12.2)\n"
          ]
        }
      ],
      "source": [
        "import os\n",
        "import torch\n",
        "\n",
        "!pip install torch-geometric"
      ]
    },
    {
      "cell_type": "code",
      "execution_count": 3,
      "id": "59ea6d28-48f3-4d3b-940c-6634ae5d9519",
      "metadata": {
        "id": "59ea6d28-48f3-4d3b-940c-6634ae5d9519"
      },
      "outputs": [],
      "source": [
        "import numpy as np\n",
        "import matplotlib.pyplot as plt\n",
        "from sklearn.metrics import confusion_matrix\n",
        "\n",
        "from torch_geometric.data import HeteroData, Data\n",
        "from torch_geometric.loader import DataLoader\n",
        "from torch_geometric.nn import HeteroConv, GCNConv, SAGEConv, GATConv, Linear\n",
        "from torch_geometric.nn.models import InnerProductDecoder\n",
        "from torch.nn import init, Dropout\n",
        "from torch.nn.functional import binary_cross_entropy_with_logits\n",
        "from torch.utils.data import random_split\n",
        "\n",
        "from tqdm import trange"
      ]
    },
    {
      "cell_type": "markdown",
      "source": [
        "Set various arguments for use throughout the Colab\n",
        "\n"
      ],
      "metadata": {
        "id": "VEaP9dzfrpGL"
      },
      "id": "VEaP9dzfrpGL"
    },
    {
      "cell_type": "code",
      "source": [
        "import torch.optim as optim\n",
        "\n",
        "def build_optimizer(args, params):\n",
        "    '''\n",
        "    Optimizer construction from Colab 4 from the Fall 2024 offering of CS224W\n",
        "    '''\n",
        "    weight_decay = args.weight_decay\n",
        "    filter_fn = filter(lambda p : p.requires_grad, params)\n",
        "    if args.opt == 'adam':\n",
        "        optimizer = optim.Adam(filter_fn, lr=args.lr, weight_decay=weight_decay)\n",
        "    elif args.opt == 'sgd':\n",
        "        optimizer = optim.SGD(filter_fn, lr=args.lr, momentum=0.95, weight_decay=weight_decay)\n",
        "    elif args.opt == 'rmsprop':\n",
        "        optimizer = optim.RMSprop(filter_fn, lr=args.lr, weight_decay=weight_decay)\n",
        "    elif args.opt == 'adagrad':\n",
        "        optimizer = optim.Adagrad(filter_fn, lr=args.lr, weight_decay=weight_decay)\n",
        "    if args.opt_scheduler == 'none':\n",
        "        return None, optimizer\n",
        "    elif args.opt_scheduler == 'step':\n",
        "        scheduler = optim.lr_scheduler.StepLR(optimizer, step_size=args.opt_decay_step, gamma=args.opt_decay_rate)\n",
        "    elif args.opt_scheduler == 'cos':\n",
        "        scheduler = optim.lr_scheduler.CosineAnnealingLR(optimizer, T_max=args.opt_restart)\n",
        "    return scheduler, optimizer\n",
        "\n",
        "class objectview(object):\n",
        "    def __init__(self, d):\n",
        "        self.__dict__ = d\n",
        "\n",
        "args = objectview(\n",
        "    {'batch_size': 128,'epochs': 2000,\n",
        "          'opt': 'adam', 'opt_scheduler': 'none', 'opt_restart': 0, 'weight_decay': 5e-4, 'lr': 0.003,\n",
        "          'device': torch.device('cuda' if torch.cuda.is_available() else 'cpu')}\n",
        "    )"
      ],
      "metadata": {
        "id": "ck0qATy8JTxs"
      },
      "id": "ck0qATy8JTxs",
      "execution_count": 20,
      "outputs": []
    },
    {
      "cell_type": "markdown",
      "source": [
        "Import data: you must download the `Compiled_data.dat` file from the [Github repo](https://github.com/jshin029-github/GraphFold3D) in order for you to run this Colab!"
      ],
      "metadata": {
        "id": "ASAbINY3rCbV"
      },
      "id": "ASAbINY3rCbV"
    },
    {
      "cell_type": "code",
      "execution_count": 41,
      "id": "d0d2e597-c079-4673-bc1c-740419bfbd58",
      "metadata": {
        "colab": {
          "base_uri": "https://localhost:8080/"
        },
        "id": "d0d2e597-c079-4673-bc1c-740419bfbd58",
        "outputId": "9ac4fd04-c832-42ed-b8ba-a25f0ebcbad4"
      },
      "outputs": [
        {
          "output_type": "stream",
          "name": "stderr",
          "text": [
            "<ipython-input-41-be66ccf980de>:2: FutureWarning: You are using `torch.load` with `weights_only=False` (the current default value), which uses the default pickle module implicitly. It is possible to construct malicious pickle data which will execute arbitrary code during unpickling (See https://github.com/pytorch/pytorch/blob/main/SECURITY.md#untrusted-models for more details). In a future release, the default value for `weights_only` will be flipped to `True`. This limits the functions that could be executed during unpickling. Arbitrary objects will no longer be allowed to be loaded via this mode unless they are explicitly allowlisted by the user via `torch.serialization.add_safe_globals`. We recommend you start setting `weights_only=True` for any use case where you don't have full control of the loaded file. Please open an issue on GitHub for any issues related to this experimental feature.\n",
            "  all_data = torch.load(f)\n"
          ]
        }
      ],
      "source": [
        "with open('Compiled_data.dat','rb') as f:\n",
        "    all_data = torch.load(f)\n",
        "\n",
        "# Move data to GPU if available\n",
        "all_data = [data.to(args.device) for data in all_data]"
      ]
    },
    {
      "cell_type": "markdown",
      "source": [
        "Define the GNN Modules\n"
      ],
      "metadata": {
        "id": "OGVknOuCrYjo"
      },
      "id": "OGVknOuCrYjo"
    },
    {
      "cell_type": "code",
      "execution_count": 47,
      "id": "3180e582-d9fa-40b0-884b-61cf63b7d383",
      "metadata": {
        "id": "3180e582-d9fa-40b0-884b-61cf63b7d383"
      },
      "outputs": [],
      "source": [
        "class HeteroGNNContainer(torch.nn.Module):\n",
        "    '''\n",
        "    Code template taken from the pytorch-geometric tutorial\n",
        "    https://pytorch-geometric.readthedocs.io/en/2.5.1/notes/heterogeneous.html\n",
        "    '''\n",
        "    def __init__(self, hidden_channels, out_channels,\n",
        "                 num_node_features, num_layers, convConstructor,\n",
        "                 device, normalize=False, dropout=0,\n",
        "                 pos_edges = ('nuc','FR3D','nuc'),\n",
        "                 neg_edges = ('nuc','neg_FR3D','nuc')):\n",
        "        super().__init__()\n",
        "\n",
        "        # Construct the relevant GraphConv stack\n",
        "        self.convs = convConstructor(hidden_channels, num_layers, dropout, normalize)\n",
        "\n",
        "        # Initialize the linear layers\n",
        "        self.enc_lin = Linear(num_node_features,hidden_channels,bias=True)\n",
        "        self.mp_lin = Linear(hidden_channels, out_channels,bias=True)\n",
        "\n",
        "        init.xavier_uniform_(self.enc_lin.weight)\n",
        "        init.xavier_uniform_(self.mp_lin.weight)\n",
        "\n",
        "        # Initialize the inner product decoder\n",
        "        self.dec = InnerProductDecoder()\n",
        "\n",
        "        # Define the positive and negative edges used for training\n",
        "        #   default is (nuc,FR3D,nuc) and (nuc,neg_FR3D,nuc), respectively\n",
        "        self.pos_edges = pos_edges\n",
        "        self.neg_edges = neg_edges\n",
        "\n",
        "        # Store the device info\n",
        "        self.device = device\n",
        "\n",
        "        # Initialize dropout layer\n",
        "        self.drop_layer = Dropout(p=dropout)\n",
        "\n",
        "    def forward(self, x_dict, edge_index_dict):\n",
        "        '''\n",
        "        Defines the forward pass operation. Takes the x_dict and edge_index_dict\n",
        "        from a HeteroData object and performs Message passing\n",
        "        '''\n",
        "\n",
        "        # Project the node features to a hidden_channels-dim vector\n",
        "        x = self.enc_lin(x_dict['nuc'])\n",
        "\n",
        "        # Apply layers of message passing with activation and dropout\n",
        "        for conv in self.convs:\n",
        "            x = x.tanh()\n",
        "            x = conv({'nuc':x}, edge_index_dict)['nuc']\n",
        "            x = self.mp_lin(x)\n",
        "            x = self.drop_layer(x)\n",
        "\n",
        "        return x\n",
        "\n",
        "    def pred_pos_scores(self,x,edge_index_dict):\n",
        "        '''\n",
        "        Use the decoder to predict positive edge scores\n",
        "        '''\n",
        "        return self.dec(x,edge_index_dict[self.pos_edges],sigmoid=False)\n",
        "\n",
        "    def pred_neg_scores(self,x,edge_index_dict):\n",
        "        '''\n",
        "        Use the decoder to predict negative edge scores\n",
        "        '''\n",
        "        return self.dec(x,edge_index_dict[self.neg_edges],sigmoid=False)\n",
        "\n",
        "    def calculateBCELoss(self,pos_scores,neg_scores):\n",
        "        '''\n",
        "        cross entropy loss for positive and negative edge predictions\n",
        "        '''\n",
        "\n",
        "        # Make vector of labels for the positive and negative edges\n",
        "        labels = torch.cat([\n",
        "            torch.ones(len(pos_scores),device=self.device),\n",
        "            torch.zeros(len(neg_scores),device=self.device)\n",
        "            ])\n",
        "\n",
        "        # Combine positive and negative edge scores\n",
        "        predictions = torch.cat([pos_scores,neg_scores])\n",
        "\n",
        "        # Compute and return the binary cross entropy loss\n",
        "        return binary_cross_entropy_with_logits(predictions,labels,reduction='sum')"
      ]
    },
    {
      "cell_type": "code",
      "source": [
        "def GATConvConstructor(hidden_channels, num_layers, dropout=0, normalize=False):\n",
        "    convs = torch.nn.ModuleList()\n",
        "    for _ in range(num_layers):\n",
        "        conv = HeteroConv({\n",
        "            ('nuc', 'mxfold', 'nuc'): GATConv((-1, -1), hidden_channels, dropout=dropout, add_self_loops=False),\n",
        "            ('nuc', 'connected', 'nuc'): GATConv((-1, -1), hidden_channels, dropout=dropout, add_self_loops=False),\n",
        "        }, aggr='mean')\n",
        "        convs.append(conv)\n",
        "\n",
        "    return convs\n",
        "\n",
        "def SAGEConvConstructor(hidden_channels, num_layers, dropout=0, normalize=False):\n",
        "    convs = torch.nn.ModuleList()\n",
        "    for _ in range(num_layers):\n",
        "        conv = HeteroConv({\n",
        "            ('nuc', 'mxfold', 'nuc'): SAGEConv((-1, -1), hidden_channels,normalize=normalize),\n",
        "            ('nuc', 'connected', 'nuc'): SAGEConv((-1, -1), hidden_channels,normalize=normalize),\n",
        "        }, aggr='mean')\n",
        "        convs.append(conv)\n",
        "\n",
        "    return convs\n",
        "\n",
        "def GCNConvConstructor(hidden_channels, num_layers, dropout=0, normalize=False):\n",
        "    convs = torch.nn.ModuleList()\n",
        "    for _ in range(num_layers):\n",
        "        conv = HeteroConv({\n",
        "            ('nuc', 'mxfold', 'nuc'): GCNConv(-1,  hidden_channels,normalize=normalize, add_self_loops=False),\n",
        "            ('nuc', 'connected', 'nuc'): GCNConv(-1, hidden_channels,normalize=normalize, add_self_loops=False),\n",
        "        }, aggr='mean')\n",
        "        convs.append(conv)\n",
        "\n",
        "    return convs"
      ],
      "metadata": {
        "id": "aRJORW9OWSYM"
      },
      "id": "aRJORW9OWSYM",
      "execution_count": 6,
      "outputs": []
    },
    {
      "cell_type": "markdown",
      "source": [
        "Define the training loop and helper functions"
      ],
      "metadata": {
        "id": "DGnfXf1FrgPC"
      },
      "id": "DGnfXf1FrgPC"
    },
    {
      "cell_type": "code",
      "source": [
        "def calculateConfusion(pos_scores,neg_scores,cutoff=0.5):\n",
        "    '''\n",
        "    Calculate the confusion matrix for edge predictions\n",
        "    '''\n",
        "\n",
        "    # Classify positive labels\n",
        "    pos_labels = pos_scores.detach().sigmoid().cpu() > cutoff\n",
        "\n",
        "    # Classify negative labels\n",
        "    neg_labels = neg_scores.detach().sigmoid().cpu() > cutoff\n",
        "\n",
        "    # Generate true labels\n",
        "    labels = torch.cat([torch.ones(len(pos_scores)),\n",
        "                    torch.zeros(len(neg_scores))])\n",
        "\n",
        "    # Calculate and return confusion\n",
        "    return confusion_matrix(\n",
        "        labels,torch.cat([pos_labels,neg_labels])\n",
        "    )\n"
      ],
      "metadata": {
        "id": "rGyjbL1yTSCo"
      },
      "id": "rGyjbL1yTSCo",
      "execution_count": 8,
      "outputs": []
    },
    {
      "cell_type": "code",
      "source": [],
      "metadata": {
        "id": "GxNiTVV6aHzc"
      },
      "id": "GxNiTVV6aHzc",
      "execution_count": 21,
      "outputs": []
    },
    {
      "cell_type": "code",
      "source": [
        "def test(test_loader, test_model):\n",
        "    '''\n",
        "    Define the test helper function to test the model\n",
        "    '''\n",
        "    # Set the model for testing mode\n",
        "    test_model.eval()\n",
        "\n",
        "    # Initialize loss and confusion matrices\n",
        "    total_loss = 0\n",
        "    total_confusion = np.zeros((2,2))\n",
        "\n",
        "    # Loop through data batches\n",
        "    for batch in test_loader:\n",
        "        # Predict edges without training the model\n",
        "        with torch.no_grad():\n",
        "            # Encode node features\n",
        "            x = test_model(batch.x_dict,batch.edge_index_dict)\n",
        "\n",
        "            # Decode edge predictions using nodes\n",
        "            pos_scores = test_model.pred_pos_scores(x,batch.edge_index_dict)\n",
        "            neg_scores = test_model.pred_neg_scores(x,batch.edge_index_dict)\n",
        "\n",
        "            # Calculate the loss and confusion matrix parameters\n",
        "            loss = test_model.calculateBCELoss(pos_scores, neg_scores)\n",
        "            confusion = calculateConfusion(pos_scores.cpu(),neg_scores.cpu())\n",
        "\n",
        "        # Add to running total\n",
        "        total_confusion += confusion\n",
        "        total_loss += loss.item()\n",
        "\n",
        "    # Normalize the loss by the number of graphs in the dataset\n",
        "    total_loss /= len(test_loader.dataset)\n",
        "\n",
        "    return total_loss, total_confusion\n",
        "\n",
        "def train(train_loader, test_loader, model,scheduler, opt, verbose=True):\n",
        "    '''\n",
        "    Define the training loop for the model\n",
        "    '''\n",
        "\n",
        "    # Initialize data structures to keep track of training and testing performance\n",
        "    losses = []\n",
        "    confusions = []\n",
        "    test_losses = []\n",
        "    test_confusions = []\n",
        "\n",
        "    # Loop over epochs\n",
        "    for epoch in trange(args.epochs, desc=\"Training\", unit=\"Epochs\"):\n",
        "      # Initialize loss and confusion matrices\n",
        "        total_loss = 0\n",
        "        total_confusion = np.zeros((2,2))\n",
        "\n",
        "        # Reset the model for training mode\n",
        "        model.train()\n",
        "\n",
        "        # Loop over batches\n",
        "        for batch in train_loader:\n",
        "\n",
        "            # Clear gradient, encode node features, predict edges, calculate\n",
        "            #   loss, backprop, update running totals\n",
        "            opt.zero_grad()\n",
        "            x = model(batch.x_dict,batch.edge_index_dict)\n",
        "            pos_scores = model.pred_pos_scores(x,batch.edge_index_dict)\n",
        "            neg_scores = model.pred_neg_scores(x,batch.edge_index_dict)\n",
        "            loss = model.calculateBCELoss(pos_scores, neg_scores)\n",
        "            loss.backward()\n",
        "            opt.step()\n",
        "            total_loss += loss.item()\n",
        "            total_confusion += calculateConfusion(pos_scores.cpu(),neg_scores.cpu())\n",
        "\n",
        "        # Normalize the loss per graph\n",
        "        total_loss /= len(train_loader.dataset)\n",
        "\n",
        "        # Test and store model performance every 20 epochs\n",
        "        if epoch % 20 == 0:\n",
        "            test_loss, test_confusion = test(test_loader,model)\n",
        "\n",
        "            losses.append(total_loss)\n",
        "            confusions.append(calculateConfusion(pos_scores,neg_scores))\n",
        "            test_losses.append(test_loss)\n",
        "            test_confusions.append(test_confusion)\n",
        "\n",
        "            # Print the results every 100 epochs to make sure training is happening\n",
        "            if verbose & (epoch % 100 == 0):\n",
        "                print((\n",
        "                f\"\\nTrain Loss {total_loss:.1f}, Train Pos Acc % \"\n",
        "                f\"{total_confusion[1,1]/total_confusion[1,:].sum()*100:.0f}, \"\n",
        "                f\"Neg Acc % {total_confusion[0,0]/total_confusion[0,:].sum()*100:.0f}\"\n",
        "                f\"\\nTest Loss {test_loss:.1f}, Test Pos Acc % \"\n",
        "                f\"{test_confusion[1,1]/test_confusion[1,:].sum()*100:.0f}, \"\n",
        "                f\"Neg Acc % {test_confusion[0,0]/test_confusion[0,:].sum()*100:.0f}\"\n",
        "                ))\n",
        "\n",
        "    return model, losses, confusions, test_losses, test_confusions"
      ],
      "metadata": {
        "id": "dpkgYXENYW97"
      },
      "id": "dpkgYXENYW97",
      "execution_count": 55,
      "outputs": []
    },
    {
      "cell_type": "markdown",
      "source": [
        "Perform Data split and set up DataLoaders"
      ],
      "metadata": {
        "id": "5KvgBEDYsGea"
      },
      "id": "5KvgBEDYsGea"
    },
    {
      "cell_type": "code",
      "source": [
        "train_set, test_set = random_split(all_data,[0.8,0.2])\n",
        "test_loader = DataLoader(test_set,batch_size=args.batch_size)\n",
        "train_loader = DataLoader(train_set,batch_size=args.batch_size)"
      ],
      "metadata": {
        "id": "u2PbJ-OIUuXP"
      },
      "id": "u2PbJ-OIUuXP",
      "execution_count": 22,
      "outputs": []
    },
    {
      "cell_type": "code",
      "source": [
        "\n",
        "model = HeteroGNNContainer(\n",
        "    hidden_channels=64, out_channels=64, dropout=0.1,\n",
        "    num_node_features = 6, num_layers = 2, normalize=False,\n",
        "    convConstructor = GCNConvConstructor,\n",
        "    device = args.device).to(args.device)\n",
        "\n",
        "scheduler, opt = build_optimizer(args, model.parameters())\n",
        "\n",
        "model, losses, confusions, test_losses, test_confusions = train(\n",
        "    train_loader,test_loader,model,scheduler, opt)\n",
        "\n",
        "GCN_results_dropout = {\n",
        "    'model':model,\n",
        "    'losses':losses,\n",
        "    'confusions':confusions,\n",
        "    'test_losses':test_losses,\n",
        "    'test_confusions':test_confusions,\n",
        "}"
      ],
      "metadata": {
        "colab": {
          "base_uri": "https://localhost:8080/"
        },
        "collapsed": true,
        "id": "yAWSrtDSj47m",
        "outputId": "52013fce-b67e-4ebd-b0a9-510795000c02"
      },
      "id": "yAWSrtDSj47m",
      "execution_count": 56,
      "outputs": [
        {
          "output_type": "stream",
          "name": "stderr",
          "text": [
            "Training:   0%|          | 1/2000 [00:00<16:23,  2.03Epochs/s]"
          ]
        },
        {
          "output_type": "stream",
          "name": "stdout",
          "text": [
            "\n",
            "Train Loss 100.2, Train Pos Acc % 88, Neg Acc % 24\n",
            "Test Loss 88.8, Test Pos Acc % 78, Neg Acc % 45\n"
          ]
        },
        {
          "output_type": "stream",
          "name": "stderr",
          "text": [
            "Training:   5%|▌         | 101/2000 [00:43<15:55,  1.99Epochs/s]"
          ]
        },
        {
          "output_type": "stream",
          "name": "stdout",
          "text": [
            "\n",
            "Train Loss 91.9, Train Pos Acc % 75, Neg Acc % 54\n",
            "Test Loss 84.3, Test Pos Acc % 76, Neg Acc % 53\n"
          ]
        },
        {
          "output_type": "stream",
          "name": "stderr",
          "text": [
            "Training:  10%|█         | 201/2000 [01:28<13:05,  2.29Epochs/s]"
          ]
        },
        {
          "output_type": "stream",
          "name": "stdout",
          "text": [
            "\n",
            "Train Loss 91.7, Train Pos Acc % 75, Neg Acc % 54\n",
            "Test Loss 84.3, Test Pos Acc % 74, Neg Acc % 55\n"
          ]
        },
        {
          "output_type": "stream",
          "name": "stderr",
          "text": [
            "Training:  15%|█▌        | 301/2000 [02:12<13:41,  2.07Epochs/s]"
          ]
        },
        {
          "output_type": "stream",
          "name": "stdout",
          "text": [
            "\n",
            "Train Loss 91.7, Train Pos Acc % 76, Neg Acc % 53\n",
            "Test Loss 84.2, Test Pos Acc % 75, Neg Acc % 54\n"
          ]
        },
        {
          "output_type": "stream",
          "name": "stderr",
          "text": [
            "Training:  20%|██        | 401/2000 [02:56<11:35,  2.30Epochs/s]"
          ]
        },
        {
          "output_type": "stream",
          "name": "stdout",
          "text": [
            "\n",
            "Train Loss 91.5, Train Pos Acc % 76, Neg Acc % 53\n",
            "Test Loss 84.6, Test Pos Acc % 74, Neg Acc % 53\n"
          ]
        },
        {
          "output_type": "stream",
          "name": "stderr",
          "text": [
            "Training:  25%|██▌       | 501/2000 [03:40<10:47,  2.31Epochs/s]"
          ]
        },
        {
          "output_type": "stream",
          "name": "stdout",
          "text": [
            "\n",
            "Train Loss 91.3, Train Pos Acc % 76, Neg Acc % 54\n",
            "Test Loss 84.6, Test Pos Acc % 74, Neg Acc % 54\n"
          ]
        },
        {
          "output_type": "stream",
          "name": "stderr",
          "text": [
            "Training:  30%|███       | 601/2000 [04:24<10:10,  2.29Epochs/s]"
          ]
        },
        {
          "output_type": "stream",
          "name": "stdout",
          "text": [
            "\n",
            "Train Loss 91.1, Train Pos Acc % 76, Neg Acc % 54\n",
            "Test Loss 84.6, Test Pos Acc % 75, Neg Acc % 53\n"
          ]
        },
        {
          "output_type": "stream",
          "name": "stderr",
          "text": [
            "Training:  35%|███▌      | 701/2000 [05:07<09:17,  2.33Epochs/s]"
          ]
        },
        {
          "output_type": "stream",
          "name": "stdout",
          "text": [
            "\n",
            "Train Loss 91.0, Train Pos Acc % 77, Neg Acc % 53\n",
            "Test Loss 84.9, Test Pos Acc % 75, Neg Acc % 53\n"
          ]
        },
        {
          "output_type": "stream",
          "name": "stderr",
          "text": [
            "Training:  40%|████      | 801/2000 [05:51<09:11,  2.18Epochs/s]"
          ]
        },
        {
          "output_type": "stream",
          "name": "stdout",
          "text": [
            "\n",
            "Train Loss 90.8, Train Pos Acc % 77, Neg Acc % 53\n",
            "Test Loss 84.9, Test Pos Acc % 75, Neg Acc % 53\n"
          ]
        },
        {
          "output_type": "stream",
          "name": "stderr",
          "text": [
            "Training:  45%|████▌     | 901/2000 [06:38<09:58,  1.84Epochs/s]"
          ]
        },
        {
          "output_type": "stream",
          "name": "stdout",
          "text": [
            "\n",
            "Train Loss 90.6, Train Pos Acc % 77, Neg Acc % 54\n",
            "Test Loss 85.0, Test Pos Acc % 75, Neg Acc % 53\n"
          ]
        },
        {
          "output_type": "stream",
          "name": "stderr",
          "text": [
            "Training:  50%|█████     | 1001/2000 [07:30<07:00,  2.38Epochs/s]"
          ]
        },
        {
          "output_type": "stream",
          "name": "stdout",
          "text": [
            "\n",
            "Train Loss 90.5, Train Pos Acc % 78, Neg Acc % 53\n",
            "Test Loss 85.2, Test Pos Acc % 75, Neg Acc % 53\n"
          ]
        },
        {
          "output_type": "stream",
          "name": "stderr",
          "text": [
            "Training:  55%|█████▌    | 1101/2000 [08:13<07:29,  2.00Epochs/s]"
          ]
        },
        {
          "output_type": "stream",
          "name": "stdout",
          "text": [
            "\n",
            "Train Loss 90.3, Train Pos Acc % 77, Neg Acc % 54\n",
            "Test Loss 85.3, Test Pos Acc % 75, Neg Acc % 53\n"
          ]
        },
        {
          "output_type": "stream",
          "name": "stderr",
          "text": [
            "Training:  60%|██████    | 1201/2000 [08:56<05:38,  2.36Epochs/s]"
          ]
        },
        {
          "output_type": "stream",
          "name": "stdout",
          "text": [
            "\n",
            "Train Loss 90.2, Train Pos Acc % 77, Neg Acc % 54\n",
            "Test Loss 85.5, Test Pos Acc % 75, Neg Acc % 53\n"
          ]
        },
        {
          "output_type": "stream",
          "name": "stderr",
          "text": [
            "Training:  65%|██████▌   | 1301/2000 [09:40<06:17,  1.85Epochs/s]"
          ]
        },
        {
          "output_type": "stream",
          "name": "stdout",
          "text": [
            "\n",
            "Train Loss 90.1, Train Pos Acc % 78, Neg Acc % 54\n",
            "Test Loss 85.5, Test Pos Acc % 76, Neg Acc % 52\n"
          ]
        },
        {
          "output_type": "stream",
          "name": "stderr",
          "text": [
            "Training:  70%|███████   | 1401/2000 [10:24<04:13,  2.36Epochs/s]"
          ]
        },
        {
          "output_type": "stream",
          "name": "stdout",
          "text": [
            "\n",
            "Train Loss 90.0, Train Pos Acc % 78, Neg Acc % 54\n",
            "Test Loss 85.8, Test Pos Acc % 75, Neg Acc % 52\n"
          ]
        },
        {
          "output_type": "stream",
          "name": "stderr",
          "text": [
            "Training:  75%|███████▌  | 1501/2000 [11:06<03:29,  2.39Epochs/s]"
          ]
        },
        {
          "output_type": "stream",
          "name": "stdout",
          "text": [
            "\n",
            "Train Loss 89.9, Train Pos Acc % 78, Neg Acc % 54\n",
            "Test Loss 85.9, Test Pos Acc % 75, Neg Acc % 52\n"
          ]
        },
        {
          "output_type": "stream",
          "name": "stderr",
          "text": [
            "Training:  80%|████████  | 1601/2000 [11:50<03:02,  2.19Epochs/s]"
          ]
        },
        {
          "output_type": "stream",
          "name": "stdout",
          "text": [
            "\n",
            "Train Loss 89.7, Train Pos Acc % 78, Neg Acc % 54\n",
            "Test Loss 86.2, Test Pos Acc % 75, Neg Acc % 52\n"
          ]
        },
        {
          "output_type": "stream",
          "name": "stderr",
          "text": [
            "Training:  85%|████████▌ | 1701/2000 [12:32<02:04,  2.39Epochs/s]"
          ]
        },
        {
          "output_type": "stream",
          "name": "stdout",
          "text": [
            "\n",
            "Train Loss 89.6, Train Pos Acc % 78, Neg Acc % 54\n",
            "Test Loss 86.2, Test Pos Acc % 75, Neg Acc % 52\n"
          ]
        },
        {
          "output_type": "stream",
          "name": "stderr",
          "text": [
            "Training:  90%|█████████ | 1801/2000 [13:14<01:22,  2.41Epochs/s]"
          ]
        },
        {
          "output_type": "stream",
          "name": "stdout",
          "text": [
            "\n",
            "Train Loss 89.5, Train Pos Acc % 78, Neg Acc % 54\n",
            "Test Loss 86.5, Test Pos Acc % 75, Neg Acc % 52\n"
          ]
        },
        {
          "output_type": "stream",
          "name": "stderr",
          "text": [
            "Training:  95%|█████████▌| 1901/2000 [13:57<00:43,  2.28Epochs/s]"
          ]
        },
        {
          "output_type": "stream",
          "name": "stdout",
          "text": [
            "\n",
            "Train Loss 89.3, Train Pos Acc % 78, Neg Acc % 54\n",
            "Test Loss 86.4, Test Pos Acc % 75, Neg Acc % 52\n"
          ]
        },
        {
          "output_type": "stream",
          "name": "stderr",
          "text": [
            "Training: 100%|██████████| 2000/2000 [14:40<00:00,  2.27Epochs/s]\n"
          ]
        }
      ]
    },
    {
      "cell_type": "code",
      "source": [
        "fig,axs = plt.subplots(ncols=3,figsize=(9,4),sharex=True)\n",
        "\n",
        "epoch_range = np.arange(len(GCN_results_dropout['losses'])) * 20\n",
        "\n",
        "axs[0].plot(epoch_range, GCN_results_dropout['losses'],color='tab:blue',label='Train')\n",
        "axs[0].plot(epoch_range, GCN_results_dropout['test_losses'],color='darkorange',label='Test')\n",
        "\n",
        "axs[0].set_ylabel('Binary Cross Entropy Loss')\n",
        "\n",
        "\n",
        "axs[1].plot(epoch_range, [M[1,1] / M[1,:].sum() for M in GCN_results_dropout['confusions']],color='tab:blue',label='Train')\n",
        "axs[1].plot(epoch_range, [M[1,1] / M[1,:].sum() for M in GCN_results_dropout['test_confusions']],color='darkorange',label='Test')\n",
        "\n",
        "axs[1].set_ylabel('Positive Edge Prediction Accuracy')\n",
        "\n",
        "axs[2].plot(epoch_range, [M[0,0] / M[0,:].sum() for M in GCN_results_dropout['confusions']],color='tab:blue',label='Train')\n",
        "axs[2].plot(epoch_range, [M[0,0] / M[0,:].sum() for M in GCN_results_dropout['test_confusions']],color='darkorange',label='Test')\n",
        "\n",
        "axs[2].set_ylabel('Positive Edge Prediction Accuracy')\n",
        "\n",
        "axs[0].legend()\n",
        "\n",
        "for ax in axs[1:]:\n",
        "    ax.set_ylim((0,1))\n",
        "\n",
        "fig.suptitle('Graph Convolutional, Dropout = 0.1')\n",
        "fig.supxlabel('Epoch')\n",
        "plt.tight_layout()\n",
        "\n",
        "plt.show()"
      ],
      "metadata": {
        "colab": {
          "base_uri": "https://localhost:8080/",
          "height": 424
        },
        "id": "rsElttJ3lt2C",
        "outputId": "4c367b57-ff44-439a-fc2a-840103e566a7"
      },
      "id": "rsElttJ3lt2C",
      "execution_count": 58,
      "outputs": [
        {
          "output_type": "display_data",
          "data": {
            "text/plain": [
              "<Figure size 900x400 with 3 Axes>"
            ],
            "image/png": "[encoded data removed]"
          },
          "metadata": {}
        }
      ]
    },
    {
      "cell_type": "code",
      "source": [],
      "metadata": {
        "id": "6hk33yf-lnCb"
      },
      "id": "6hk33yf-lnCb",
      "execution_count": null,
      "outputs": []
    },
    {
      "cell_type": "code",
      "execution_count": 59,
      "id": "4cb4e336-62a2-4f3f-b104-5ba40b58d1a8",
      "metadata": {
        "colab": {
          "base_uri": "https://localhost:8080/"
        },
        "id": "4cb4e336-62a2-4f3f-b104-5ba40b58d1a8",
        "outputId": "bfa7f67e-285d-4f04-d42d-60000439902a"
      },
      "outputs": [
        {
          "output_type": "stream",
          "name": "stderr",
          "text": [
            "Training:   0%|          | 1/2000 [00:00<31:19,  1.06Epochs/s]"
          ]
        },
        {
          "output_type": "stream",
          "name": "stdout",
          "text": [
            "\n",
            "Train Loss 103.9, Train Pos Acc % 98, Neg Acc % 4\n",
            "Test Loss 90.1, Test Pos Acc % 91, Neg Acc % 21\n"
          ]
        },
        {
          "output_type": "stream",
          "name": "stderr",
          "text": [
            "Training:   5%|▌         | 101/2000 [00:45<13:57,  2.27Epochs/s]"
          ]
        },
        {
          "output_type": "stream",
          "name": "stdout",
          "text": [
            "\n",
            "Train Loss 86.0, Train Pos Acc % 82, Neg Acc % 49\n",
            "Test Loss 79.8, Test Pos Acc % 82, Neg Acc % 50\n"
          ]
        },
        {
          "output_type": "stream",
          "name": "stderr",
          "text": [
            "Training:  10%|█         | 201/2000 [01:28<13:00,  2.30Epochs/s]"
          ]
        },
        {
          "output_type": "stream",
          "name": "stdout",
          "text": [
            "\n",
            "Train Loss 84.2, Train Pos Acc % 84, Neg Acc % 50\n",
            "Test Loss 78.8, Test Pos Acc % 83, Neg Acc % 50\n"
          ]
        },
        {
          "output_type": "stream",
          "name": "stderr",
          "text": [
            "Training:  15%|█▌        | 301/2000 [02:12<12:54,  2.19Epochs/s]"
          ]
        },
        {
          "output_type": "stream",
          "name": "stdout",
          "text": [
            "\n",
            "Train Loss 83.4, Train Pos Acc % 84, Neg Acc % 50\n",
            "Test Loss 78.4, Test Pos Acc % 83, Neg Acc % 50\n"
          ]
        },
        {
          "output_type": "stream",
          "name": "stderr",
          "text": [
            "Training:  20%|██        | 401/2000 [02:55<11:21,  2.35Epochs/s]"
          ]
        },
        {
          "output_type": "stream",
          "name": "stdout",
          "text": [
            "\n",
            "Train Loss 82.6, Train Pos Acc % 85, Neg Acc % 51\n",
            "Test Loss 78.5, Test Pos Acc % 83, Neg Acc % 50\n"
          ]
        },
        {
          "output_type": "stream",
          "name": "stderr",
          "text": [
            "Training:  25%|██▌       | 501/2000 [03:40<11:20,  2.20Epochs/s]"
          ]
        },
        {
          "output_type": "stream",
          "name": "stdout",
          "text": [
            "\n",
            "Train Loss 82.0, Train Pos Acc % 85, Neg Acc % 52\n",
            "Test Loss 78.4, Test Pos Acc % 83, Neg Acc % 49\n"
          ]
        },
        {
          "output_type": "stream",
          "name": "stderr",
          "text": [
            "Training:  30%|███       | 601/2000 [04:24<10:01,  2.32Epochs/s]"
          ]
        },
        {
          "output_type": "stream",
          "name": "stdout",
          "text": [
            "\n",
            "Train Loss 81.7, Train Pos Acc % 85, Neg Acc % 52\n",
            "Test Loss 78.7, Test Pos Acc % 83, Neg Acc % 50\n"
          ]
        },
        {
          "output_type": "stream",
          "name": "stderr",
          "text": [
            "Training:  35%|███▌      | 701/2000 [05:08<11:02,  1.96Epochs/s]"
          ]
        },
        {
          "output_type": "stream",
          "name": "stdout",
          "text": [
            "\n",
            "Train Loss 81.2, Train Pos Acc % 85, Neg Acc % 53\n",
            "Test Loss 78.9, Test Pos Acc % 83, Neg Acc % 49\n"
          ]
        },
        {
          "output_type": "stream",
          "name": "stderr",
          "text": [
            "Training:  40%|████      | 801/2000 [05:52<08:31,  2.34Epochs/s]"
          ]
        },
        {
          "output_type": "stream",
          "name": "stdout",
          "text": [
            "\n",
            "Train Loss 80.9, Train Pos Acc % 85, Neg Acc % 53\n",
            "Test Loss 78.8, Test Pos Acc % 83, Neg Acc % 50\n"
          ]
        },
        {
          "output_type": "stream",
          "name": "stderr",
          "text": [
            "Training:  45%|████▌     | 901/2000 [06:36<11:27,  1.60Epochs/s]"
          ]
        },
        {
          "output_type": "stream",
          "name": "stdout",
          "text": [
            "\n",
            "Train Loss 80.6, Train Pos Acc % 86, Neg Acc % 53\n",
            "Test Loss 79.0, Test Pos Acc % 83, Neg Acc % 49\n"
          ]
        },
        {
          "output_type": "stream",
          "name": "stderr",
          "text": [
            "Training:  50%|█████     | 1001/2000 [07:20<07:19,  2.27Epochs/s]"
          ]
        },
        {
          "output_type": "stream",
          "name": "stdout",
          "text": [
            "\n",
            "Train Loss 80.3, Train Pos Acc % 85, Neg Acc % 53\n",
            "Test Loss 79.3, Test Pos Acc % 83, Neg Acc % 49\n"
          ]
        },
        {
          "output_type": "stream",
          "name": "stderr",
          "text": [
            "Training:  55%|█████▌    | 1101/2000 [08:06<08:33,  1.75Epochs/s]"
          ]
        },
        {
          "output_type": "stream",
          "name": "stdout",
          "text": [
            "\n",
            "Train Loss 80.0, Train Pos Acc % 86, Neg Acc % 54\n",
            "Test Loss 79.5, Test Pos Acc % 82, Neg Acc % 49\n"
          ]
        },
        {
          "output_type": "stream",
          "name": "stderr",
          "text": [
            "Training:  60%|██████    | 1201/2000 [08:50<05:47,  2.30Epochs/s]"
          ]
        },
        {
          "output_type": "stream",
          "name": "stdout",
          "text": [
            "\n",
            "Train Loss 79.9, Train Pos Acc % 86, Neg Acc % 54\n",
            "Test Loss 79.6, Test Pos Acc % 83, Neg Acc % 49\n"
          ]
        },
        {
          "output_type": "stream",
          "name": "stderr",
          "text": [
            "Training:  65%|██████▌   | 1301/2000 [09:34<06:17,  1.85Epochs/s]"
          ]
        },
        {
          "output_type": "stream",
          "name": "stdout",
          "text": [
            "\n",
            "Train Loss 79.6, Train Pos Acc % 86, Neg Acc % 54\n",
            "Test Loss 80.2, Test Pos Acc % 82, Neg Acc % 49\n"
          ]
        },
        {
          "output_type": "stream",
          "name": "stderr",
          "text": [
            "Training:  70%|███████   | 1401/2000 [10:18<04:24,  2.26Epochs/s]"
          ]
        },
        {
          "output_type": "stream",
          "name": "stdout",
          "text": [
            "\n",
            "Train Loss 79.4, Train Pos Acc % 86, Neg Acc % 54\n",
            "Test Loss 80.1, Test Pos Acc % 82, Neg Acc % 49\n"
          ]
        },
        {
          "output_type": "stream",
          "name": "stderr",
          "text": [
            "Training:  75%|███████▌  | 1501/2000 [11:02<05:01,  1.65Epochs/s]"
          ]
        },
        {
          "output_type": "stream",
          "name": "stdout",
          "text": [
            "\n",
            "Train Loss 79.1, Train Pos Acc % 86, Neg Acc % 55\n",
            "Test Loss 80.1, Test Pos Acc % 83, Neg Acc % 49\n"
          ]
        },
        {
          "output_type": "stream",
          "name": "stderr",
          "text": [
            "Training:  80%|████████  | 1601/2000 [11:47<03:59,  1.66Epochs/s]"
          ]
        },
        {
          "output_type": "stream",
          "name": "stdout",
          "text": [
            "\n",
            "Train Loss 79.2, Train Pos Acc % 86, Neg Acc % 55\n",
            "Test Loss 80.4, Test Pos Acc % 82, Neg Acc % 49\n"
          ]
        },
        {
          "output_type": "stream",
          "name": "stderr",
          "text": [
            "Training:  85%|████████▌ | 1701/2000 [12:42<02:54,  1.71Epochs/s]"
          ]
        },
        {
          "output_type": "stream",
          "name": "stdout",
          "text": [
            "\n",
            "Train Loss 78.9, Train Pos Acc % 86, Neg Acc % 55\n",
            "Test Loss 80.7, Test Pos Acc % 82, Neg Acc % 49\n"
          ]
        },
        {
          "output_type": "stream",
          "name": "stderr",
          "text": [
            "Training:  90%|█████████ | 1801/2000 [13:39<02:03,  1.61Epochs/s]"
          ]
        },
        {
          "output_type": "stream",
          "name": "stdout",
          "text": [
            "\n",
            "Train Loss 78.9, Train Pos Acc % 86, Neg Acc % 55\n",
            "Test Loss 80.7, Test Pos Acc % 82, Neg Acc % 49\n"
          ]
        },
        {
          "output_type": "stream",
          "name": "stderr",
          "text": [
            "Training:  95%|█████████▌| 1901/2000 [14:38<00:42,  2.31Epochs/s]"
          ]
        },
        {
          "output_type": "stream",
          "name": "stdout",
          "text": [
            "\n",
            "Train Loss 78.5, Train Pos Acc % 86, Neg Acc % 55\n",
            "Test Loss 80.9, Test Pos Acc % 82, Neg Acc % 48\n"
          ]
        },
        {
          "output_type": "stream",
          "name": "stderr",
          "text": [
            "Training: 100%|██████████| 2000/2000 [15:35<00:00,  2.14Epochs/s]\n"
          ]
        }
      ],
      "source": [
        "\n",
        "model = HeteroGNNContainer(\n",
        "    hidden_channels=32, out_channels=64,dropout=0.1,\n",
        "    num_node_features = 6, num_layers = 2 ,normalize=False,\n",
        "    convConstructor = SAGEConvConstructor,\n",
        "    device = args.device, pos_edges = ('nuc','FR3D','nuc')\n",
        "                  ).to(args.device)\n",
        "\n",
        "scheduler, opt = build_optimizer(args, model.parameters())\n",
        "\n",
        "model, losses, confusions, test_losses, test_confusions = train(\n",
        "    train_loader,test_loader,model,scheduler, opt)\n",
        "\n",
        "SAGE_results = {\n",
        "    'model':model,\n",
        "    'losses':losses,\n",
        "    'confusions':confusions,\n",
        "    'test_losses':test_losses,\n",
        "    'test_confusions':test_confusions,\n",
        "}"
      ]
    },
    {
      "cell_type": "code",
      "source": [
        "fig,axs = plt.subplots(ncols=3,figsize=(9,4),sharex=True)\n",
        "\n",
        "epoch_range = np.arange(len(SAGE_results['losses'])) * 20\n",
        "\n",
        "axs[0].plot(epoch_range, SAGE_results['losses'],color='tab:blue',label='Train')\n",
        "axs[0].plot(epoch_range, SAGE_results['test_losses'],color='darkorange',label='Test')\n",
        "\n",
        "axs[0].set_ylabel('Binary Cross Entropy Loss')\n",
        "\n",
        "\n",
        "axs[1].plot(epoch_range, [M[1,1] / M[1,:].sum() for M in SAGE_results['confusions']],color='tab:blue',label='Train')\n",
        "axs[1].plot(epoch_range, [M[1,1] / M[1,:].sum() for M in SAGE_results['test_confusions']],color='darkorange',label='Test')\n",
        "\n",
        "axs[1].set_ylabel('Positive Edge Prediction Accuracy')\n",
        "\n",
        "axs[2].plot(epoch_range, [M[0,0] / M[0,:].sum() for M in SAGE_results['confusions']],color='tab:blue',label='Train')\n",
        "axs[2].plot(epoch_range, [M[0,0] / M[0,:].sum() for M in SAGE_results['test_confusions']],color='darkorange',label='Test')\n",
        "\n",
        "axs[2].set_ylabel('Negative Edge Prediction Accuracy')\n",
        "\n",
        "axs[0].legend()\n",
        "\n",
        "for ax in axs[1:]:\n",
        "    ax.set_ylim((0,1))\n",
        "\n",
        "fig.suptitle('GraphSAGE, Dropout = 0.1')\n",
        "fig.supxlabel('Epoch')\n",
        "plt.tight_layout()\n",
        "\n",
        "plt.show()"
      ],
      "metadata": {
        "colab": {
          "base_uri": "https://localhost:8080/",
          "height": 424
        },
        "id": "-4XstVoJo3zo",
        "outputId": "255bc745-28e7-4b1c-cccc-10bfd70beadb"
      },
      "id": "-4XstVoJo3zo",
      "execution_count": 61,
      "outputs": [
        {
          "output_type": "display_data",
          "data": {
            "text/plain": [
              "<Figure size 900x400 with 3 Axes>"
            ],
            "image/png": "[encoded data removed]"
          },
          "metadata": {}
        }
      ]
    },
    {
      "cell_type": "code",
      "source": [
        "\n",
        "model = HeteroGNNContainer(\n",
        "    hidden_channels=64, out_channels=64,dropout=0.1,\n",
        "    num_node_features = 6, num_layers = 2 ,normalize=False,\n",
        "    convConstructor = GATConvConstructor,\n",
        "    device = args.device, pos_edges = ('nuc','FR3D','nuc')\n",
        "                  ).to(args.device)\n",
        "\n",
        "scheduler, opt = build_optimizer(args, model.parameters())\n",
        "\n",
        "model, losses, confusions, test_losses, test_confusions = train(\n",
        "    train_loader,test_loader,model,scheduler, opt)\n",
        "\n",
        "GAT_results = {\n",
        "    'model':model,\n",
        "    'losses':losses,\n",
        "    'confusions':confusions,\n",
        "    'test_losses':test_losses,\n",
        "    'test_confusions':test_confusions,\n",
        "}"
      ],
      "metadata": {
        "colab": {
          "base_uri": "https://localhost:8080/"
        },
        "id": "7pxGqtmPj45A",
        "outputId": "7fb85bbd-1067-41b2-d49a-8909ffd889c0"
      },
      "id": "7pxGqtmPj45A",
      "execution_count": null,
      "outputs": [
        {
          "output_type": "stream",
          "name": "stderr",
          "text": [
            "Training:   0%|          | 1/2000 [00:00<30:21,  1.10Epochs/s]"
          ]
        },
        {
          "output_type": "stream",
          "name": "stdout",
          "text": [
            "\n",
            "Train Loss 103.7, Train Pos Acc % 91, Neg Acc % 14\n",
            "Test Loss 90.5, Test Pos Acc % 87, Neg Acc % 29\n"
          ]
        },
        {
          "output_type": "stream",
          "name": "stderr",
          "text": [
            "Training:   5%|▌         | 101/2000 [00:48<20:18,  1.56Epochs/s]"
          ]
        },
        {
          "output_type": "stream",
          "name": "stdout",
          "text": [
            "\n",
            "Train Loss 94.8, Train Pos Acc % 72, Neg Acc % 52\n",
            "Test Loss 85.0, Test Pos Acc % 74, Neg Acc % 54\n"
          ]
        },
        {
          "output_type": "stream",
          "name": "stderr",
          "text": [
            "Training:  10%|█         | 201/2000 [01:35<13:51,  2.16Epochs/s]"
          ]
        },
        {
          "output_type": "stream",
          "name": "stdout",
          "text": [
            "\n",
            "Train Loss 94.6, Train Pos Acc % 72, Neg Acc % 52\n",
            "Test Loss 84.9, Test Pos Acc % 74, Neg Acc % 54\n"
          ]
        },
        {
          "output_type": "stream",
          "name": "stderr",
          "text": [
            "Training:  15%|█▌        | 301/2000 [02:22<12:53,  2.20Epochs/s]"
          ]
        },
        {
          "output_type": "stream",
          "name": "stdout",
          "text": [
            "\n",
            "Train Loss 94.6, Train Pos Acc % 72, Neg Acc % 52\n",
            "Test Loss 85.0, Test Pos Acc % 75, Neg Acc % 53\n"
          ]
        },
        {
          "output_type": "stream",
          "name": "stderr",
          "text": [
            "Training:  20%|██        | 401/2000 [03:09<14:27,  1.84Epochs/s]"
          ]
        },
        {
          "output_type": "stream",
          "name": "stdout",
          "text": [
            "\n",
            "Train Loss 94.5, Train Pos Acc % 72, Neg Acc % 52\n",
            "Test Loss 84.9, Test Pos Acc % 74, Neg Acc % 54\n"
          ]
        },
        {
          "output_type": "stream",
          "name": "stderr",
          "text": [
            "Training:  24%|██▍       | 479/2000 [03:45<14:09,  1.79Epochs/s]"
          ]
        }
      ]
    },
    {
      "cell_type": "code",
      "source": [
        "fig,axs = plt.subplots(ncols=3,figsize=(9,4),sharex=True)\n",
        "\n",
        "epoch_range = np.arange(len(GAT_results['losses'])) * 20\n",
        "\n",
        "axs[0].plot(epoch_range, GAT_results['losses'],color='tab:blue',label='Train')\n",
        "axs[0].plot(epoch_range, GAT_results['test_losses'],color='darkorange',label='Test')\n",
        "\n",
        "axs[0].set_ylabel('Binary Cross Entropy Loss')\n",
        "\n",
        "\n",
        "axs[1].plot(epoch_range, [M[1,1] / M[1,:].sum() for M in GAT_results['confusions']],color='tab:blue',label='Train')\n",
        "axs[1].plot(epoch_range, [M[1,1] / M[1,:].sum() for M in GAT_results['test_confusions']],color='darkorange',label='Test')\n",
        "\n",
        "axs[1].set_ylabel('Positive Edge Prediction Accuracy')\n",
        "\n",
        "axs[2].plot(epoch_range, [M[0,0] / M[0,:].sum() for M in GAT_results['confusions']],color='tab:blue',label='Train')\n",
        "axs[2].plot(epoch_range, [M[0,0] / M[0,:].sum() for M in GAT_results['test_confusions']],color='darkorange',label='Test')\n",
        "\n",
        "axs[2].set_ylabel('Negative Edge Prediction Accuracy')\n",
        "\n",
        "axs[0].legend()\n",
        "\n",
        "for ax in axs[1:]:\n",
        "    ax.set_ylim((0,1))\n",
        "\n",
        "fig.suptitle('GraphAttention, Dropout = 0.1')\n",
        "fig.supxlabel('Epoch')\n",
        "plt.tight_layout()\n",
        "\n",
        "plt.show()"
      ],
      "metadata": {
        "id": "SYY3wLnfj498",
        "colab": {
          "base_uri": "https://localhost:8080/",
          "height": 424
        },
        "outputId": "34a2889a-5302-45e7-c3fc-d3567086ded1"
      },
      "id": "SYY3wLnfj498",
      "execution_count": 63,
      "outputs": [
        {
          "output_type": "display_data",
          "data": {
            "text/plain": [
              "<Figure size 900x400 with 3 Axes>"
            ],
            "image/png": "[encoded data removed]"
          },
          "metadata": {}
        }
      ]
    },
    {
      "cell_type": "code",
      "source": [],
      "metadata": {
        "id": "a8TJb1ALj5As"
      },
      "id": "a8TJb1ALj5As",
      "execution_count": null,
      "outputs": []
    },
    {
      "cell_type": "code",
      "source": [],
      "metadata": {
        "id": "hfUlV34Uj5DJ"
      },
      "id": "hfUlV34Uj5DJ",
      "execution_count": null,
      "outputs": []
    },
    {
      "cell_type": "code",
      "source": [],
      "metadata": {
        "id": "5LnO0VTVgAs7"
      },
      "id": "5LnO0VTVgAs7",
      "execution_count": null,
      "outputs": []
    }
  ],
  "metadata": {
    "accelerator": "GPU",
    "colab": {
      "gpuType": "T4",
      "provenance": []
    },
    "kernelspec": {
      "display_name": "Python 3 (ipykernel)",
      "language": "python",
      "name": "python3"
    },
    "language_info": {
      "codemirror_mode": {
        "name": "ipython",
        "version": 3
      },
      "file_extension": ".py",
      "mimetype": "text/x-python",
      "name": "python",
      "nbconvert_exporter": "python",
      "pygments_lexer": "ipython3",
      "version": "3.12.6"
    }
  },
  "nbformat": 4,
  "nbformat_minor": 5
}